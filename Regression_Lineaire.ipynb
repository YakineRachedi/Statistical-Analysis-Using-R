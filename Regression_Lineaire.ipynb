{
 "cells": [
  {
   "cell_type": "markdown",
   "id": "a06306d1-b41c-49a8-8b13-dff22e9fe242",
   "metadata": {},
   "source": [
    "# Jeu de données du décathlon\n",
    "\n",
    "Ce jeu de données contient les résultats de deux compétitions de décathlon, lors de deux rencontres d'athlétisme qui ont eu lieu à un mois d'intervalle en 2004 : les jeux olympiques d'Athènes les 23 et 24 août et le Decastar 2004 qui a eu lieu les 25 et 26 septembre. Pour ces deux compétitions, on dispose pour chaque athlète des informations suivantes :\n",
    "- La performance sur chacune des 10 épreuves : 100 mètres `100m`, saut en longeur `Long.jump`, lancer du poids `Shot.put`, saut en hauteur `High.jump`, 400 mètres `400m`, 110 mètres haies `110m.hurdle`, lancer du disque `discus`, saut à la perche `Pole.vault`, lancer du javelot `Javelin`, 1500 mètres `1500m`.\n",
    "- Le nombre total de points `Points` (pour chaque épreuve, un athlète gagne des points en fonction de ses performances, ici on somme le total de points).\n",
    "- Le rang final. \n"
   ]
  },
  {
   "cell_type": "markdown",
   "id": "fcdfcc42-a589-4db6-a79f-bdaf69c27fee",
   "metadata": {},
   "source": [
    "## Importation et premières analyses "
   ]
  },
  {
   "cell_type": "code",
   "execution_count": 1,
   "id": "17094e74",
   "metadata": {
    "vscode": {
     "languageId": "r"
    }
   },
   "outputs": [
    {
     "data": {
      "text/html": [
       "<table class=\"dataframe\">\n",
       "<caption>A data.frame: 6 × 13</caption>\n",
       "<thead>\n",
       "\t<tr><th></th><th scope=col>X100m</th><th scope=col>Long.jump</th><th scope=col>Shot.put</th><th scope=col>High.jump</th><th scope=col>X400m</th><th scope=col>X110m.hurdle</th><th scope=col>Discus</th><th scope=col>Pole.vault</th><th scope=col>Javeline</th><th scope=col>X1500m</th><th scope=col>Rank</th><th scope=col>Points</th><th scope=col>Competition</th></tr>\n",
       "\t<tr><th></th><th scope=col>&lt;dbl&gt;</th><th scope=col>&lt;dbl&gt;</th><th scope=col>&lt;dbl&gt;</th><th scope=col>&lt;dbl&gt;</th><th scope=col>&lt;dbl&gt;</th><th scope=col>&lt;dbl&gt;</th><th scope=col>&lt;dbl&gt;</th><th scope=col>&lt;dbl&gt;</th><th scope=col>&lt;dbl&gt;</th><th scope=col>&lt;dbl&gt;</th><th scope=col>&lt;int&gt;</th><th scope=col>&lt;int&gt;</th><th scope=col>&lt;chr&gt;</th></tr>\n",
       "</thead>\n",
       "<tbody>\n",
       "\t<tr><th scope=row>SEBRLE</th><td>11.04</td><td>7.58</td><td>14.83</td><td>2.07</td><td>49.81</td><td>14.69</td><td>43.75</td><td>5.02</td><td>63.19</td><td>291.7</td><td>1</td><td>8217</td><td>Decastar</td></tr>\n",
       "\t<tr><th scope=row>CLAY</th><td>10.76</td><td>7.40</td><td>14.26</td><td>1.86</td><td>49.37</td><td>14.05</td><td>50.72</td><td>4.92</td><td>60.15</td><td>301.5</td><td>2</td><td>8122</td><td>Decastar</td></tr>\n",
       "\t<tr><th scope=row>KARPOV</th><td>11.02</td><td>7.30</td><td>14.77</td><td>2.04</td><td>48.37</td><td>14.09</td><td>48.95</td><td>4.92</td><td>50.31</td><td>300.2</td><td>3</td><td>8099</td><td>Decastar</td></tr>\n",
       "\t<tr><th scope=row>BERNARD</th><td>11.02</td><td>7.23</td><td>14.25</td><td>1.92</td><td>48.93</td><td>14.99</td><td>40.87</td><td>5.32</td><td>62.77</td><td>280.1</td><td>4</td><td>8067</td><td>Decastar</td></tr>\n",
       "\t<tr><th scope=row>YURKOV</th><td>11.34</td><td>7.09</td><td>15.19</td><td>2.10</td><td>50.42</td><td>15.31</td><td>46.26</td><td>4.72</td><td>63.44</td><td>276.4</td><td>5</td><td>8036</td><td>Decastar</td></tr>\n",
       "\t<tr><th scope=row>WARNERS</th><td>11.11</td><td>7.60</td><td>14.31</td><td>1.98</td><td>48.68</td><td>14.23</td><td>41.10</td><td>4.92</td><td>51.77</td><td>278.1</td><td>6</td><td>8030</td><td>Decastar</td></tr>\n",
       "</tbody>\n",
       "</table>\n"
      ],
      "text/latex": [
       "A data.frame: 6 × 13\n",
       "\\begin{tabular}{r|lllllllllllll}\n",
       "  & X100m & Long.jump & Shot.put & High.jump & X400m & X110m.hurdle & Discus & Pole.vault & Javeline & X1500m & Rank & Points & Competition\\\\\n",
       "  & <dbl> & <dbl> & <dbl> & <dbl> & <dbl> & <dbl> & <dbl> & <dbl> & <dbl> & <dbl> & <int> & <int> & <chr>\\\\\n",
       "\\hline\n",
       "\tSEBRLE & 11.04 & 7.58 & 14.83 & 2.07 & 49.81 & 14.69 & 43.75 & 5.02 & 63.19 & 291.7 & 1 & 8217 & Decastar\\\\\n",
       "\tCLAY & 10.76 & 7.40 & 14.26 & 1.86 & 49.37 & 14.05 & 50.72 & 4.92 & 60.15 & 301.5 & 2 & 8122 & Decastar\\\\\n",
       "\tKARPOV & 11.02 & 7.30 & 14.77 & 2.04 & 48.37 & 14.09 & 48.95 & 4.92 & 50.31 & 300.2 & 3 & 8099 & Decastar\\\\\n",
       "\tBERNARD & 11.02 & 7.23 & 14.25 & 1.92 & 48.93 & 14.99 & 40.87 & 5.32 & 62.77 & 280.1 & 4 & 8067 & Decastar\\\\\n",
       "\tYURKOV & 11.34 & 7.09 & 15.19 & 2.10 & 50.42 & 15.31 & 46.26 & 4.72 & 63.44 & 276.4 & 5 & 8036 & Decastar\\\\\n",
       "\tWARNERS & 11.11 & 7.60 & 14.31 & 1.98 & 48.68 & 14.23 & 41.10 & 4.92 & 51.77 & 278.1 & 6 & 8030 & Decastar\\\\\n",
       "\\end{tabular}\n"
      ],
      "text/markdown": [
       "\n",
       "A data.frame: 6 × 13\n",
       "\n",
       "| <!--/--> | X100m &lt;dbl&gt; | Long.jump &lt;dbl&gt; | Shot.put &lt;dbl&gt; | High.jump &lt;dbl&gt; | X400m &lt;dbl&gt; | X110m.hurdle &lt;dbl&gt; | Discus &lt;dbl&gt; | Pole.vault &lt;dbl&gt; | Javeline &lt;dbl&gt; | X1500m &lt;dbl&gt; | Rank &lt;int&gt; | Points &lt;int&gt; | Competition &lt;chr&gt; |\n",
       "|---|---|---|---|---|---|---|---|---|---|---|---|---|---|\n",
       "| SEBRLE | 11.04 | 7.58 | 14.83 | 2.07 | 49.81 | 14.69 | 43.75 | 5.02 | 63.19 | 291.7 | 1 | 8217 | Decastar |\n",
       "| CLAY | 10.76 | 7.40 | 14.26 | 1.86 | 49.37 | 14.05 | 50.72 | 4.92 | 60.15 | 301.5 | 2 | 8122 | Decastar |\n",
       "| KARPOV | 11.02 | 7.30 | 14.77 | 2.04 | 48.37 | 14.09 | 48.95 | 4.92 | 50.31 | 300.2 | 3 | 8099 | Decastar |\n",
       "| BERNARD | 11.02 | 7.23 | 14.25 | 1.92 | 48.93 | 14.99 | 40.87 | 5.32 | 62.77 | 280.1 | 4 | 8067 | Decastar |\n",
       "| YURKOV | 11.34 | 7.09 | 15.19 | 2.10 | 50.42 | 15.31 | 46.26 | 4.72 | 63.44 | 276.4 | 5 | 8036 | Decastar |\n",
       "| WARNERS | 11.11 | 7.60 | 14.31 | 1.98 | 48.68 | 14.23 | 41.10 | 4.92 | 51.77 | 278.1 | 6 | 8030 | Decastar |\n",
       "\n"
      ],
      "text/plain": [
       "        X100m Long.jump Shot.put High.jump X400m X110m.hurdle Discus Pole.vault\n",
       "SEBRLE  11.04 7.58      14.83    2.07      49.81 14.69        43.75  5.02      \n",
       "CLAY    10.76 7.40      14.26    1.86      49.37 14.05        50.72  4.92      \n",
       "KARPOV  11.02 7.30      14.77    2.04      48.37 14.09        48.95  4.92      \n",
       "BERNARD 11.02 7.23      14.25    1.92      48.93 14.99        40.87  5.32      \n",
       "YURKOV  11.34 7.09      15.19    2.10      50.42 15.31        46.26  4.72      \n",
       "WARNERS 11.11 7.60      14.31    1.98      48.68 14.23        41.10  4.92      \n",
       "        Javeline X1500m Rank Points Competition\n",
       "SEBRLE  63.19    291.7  1    8217   Decastar   \n",
       "CLAY    60.15    301.5  2    8122   Decastar   \n",
       "KARPOV  50.31    300.2  3    8099   Decastar   \n",
       "BERNARD 62.77    280.1  4    8067   Decastar   \n",
       "YURKOV  63.44    276.4  5    8036   Decastar   \n",
       "WARNERS 51.77    278.1  6    8030   Decastar   "
      ]
     },
     "metadata": {},
     "output_type": "display_data"
    },
    {
     "data": {
      "text/html": [
       "41"
      ],
      "text/latex": [
       "41"
      ],
      "text/markdown": [
       "41"
      ],
      "text/plain": [
       "[1] 41"
      ]
     },
     "metadata": {},
     "output_type": "display_data"
    },
    {
     "name": "stdout",
     "output_type": "stream",
     "text": [
      "'data.frame':\t41 obs. of  13 variables:\n",
      " $ X100m       : num  11 10.8 11 11 11.3 ...\n",
      " $ Long.jump   : num  7.58 7.4 7.3 7.23 7.09 7.6 7.3 7.31 6.81 7.56 ...\n",
      " $ Shot.put    : num  14.8 14.3 14.8 14.2 15.2 ...\n",
      " $ High.jump   : num  2.07 1.86 2.04 1.92 2.1 1.98 2.01 2.13 1.95 1.86 ...\n",
      " $ X400m       : num  49.8 49.4 48.4 48.9 50.4 ...\n",
      " $ X110m.hurdle: num  14.7 14.1 14.1 15 15.3 ...\n",
      " $ Discus      : num  43.8 50.7 49 40.9 46.3 ...\n",
      " $ Pole.vault  : num  5.02 4.92 4.92 5.32 4.72 4.92 4.42 4.42 4.92 4.82 ...\n",
      " $ Javeline    : num  63.2 60.1 50.3 62.8 63.4 ...\n",
      " $ X1500m      : num  292 302 300 280 276 ...\n",
      " $ Rank        : int  1 2 3 4 5 6 7 8 9 10 ...\n",
      " $ Points      : int  8217 8122 8099 8067 8036 8030 8004 7995 7802 7733 ...\n",
      " $ Competition : chr  \"Decastar\" \"Decastar\" \"Decastar\" \"Decastar\" ...\n",
      " [1] \"SEBRLE\"      \"CLAY\"        \"KARPOV\"      \"BERNARD\"     \"YURKOV\"     \n",
      " [6] \"WARNERS\"     \"ZSIVOCZKY\"   \"McMULLEN\"    \"MARTINEAU\"   \"HERNU\"      \n",
      "[11] \"BARRAS\"      \"NOOL\"        \"BOURGUIGNON\" \"Sebrle\"      \"Clay\"       \n",
      "[16] \"Karpov\"      \"Macey\"       \"Warners\"     \"Zsivoczky\"   \"Hernu\"      \n",
      "[21] \"Nool\"        \"Bernard\"     \"Schwarzl\"    \"Pogorelov\"   \"Schoenbeck\" \n",
      "[26] \"Barras\"      \"Smith\"       \"Averyanov\"   \"Ojaniemi\"    \"Smirnov\"    \n",
      "[31] \"Qi\"          \"Drews\"       \"Parkhomenko\" \"Terek\"       \"Gomez\"      \n",
      "[36] \"Turi\"        \"Lorenzo\"     \"Karlivans\"   \"Korkizoglou\" \"Uldal\"      \n",
      "[41] \"Casarsa\"    \n"
     ]
    }
   ],
   "source": [
    "decathlon <- read.table('decathlon.txt', header = TRUE,stringsAsFactors = FALSE)\n",
    "head(decathlon)\n",
    "nrow(decathlon)  # 41 individus\n",
    "str(decathlon) # 13 variables\n",
    "print(rownames(decathlon))"
   ]
  },
  {
   "cell_type": "markdown",
   "id": "4beb1add",
   "metadata": {},
   "source": [
    "***Nombre d'individus et de variables:***\n",
    "\n",
    "Le jeu de données contient des informations sur 41 athlètes.\n",
    "\n",
    "Il y a 13 variables au total:\n",
    "\n",
    "10 variables quantitatives (mesurant les performances sportives)\n",
    "\n",
    "1 variable qualitative (fournissant des informations complémentaires)\n",
    "\n",
    "***Description des variables:***\n",
    "\n",
    "**Variables quantitatives:**\n",
    "\n",
    "- 100m: Performance sur 100 mètres (en secondes)\n",
    "\n",
    "- Long.jump: Longueur du saut en longueur (en mètres)\n",
    "\n",
    "- Shot.put: Distance du lancer du poids (en mètres)\n",
    "\n",
    "- High.jump: Hauteur du saut en hauteur (en mètres)\n",
    "\n",
    "- 400m: Temps sur 400 mètres (en secondes)\n",
    "\n",
    "- 110m.hurdle: Temps sur 110 mètres haies (en secondes)\n",
    "\n",
    "- Discus: Distance du lancer du disque (en mètres)\n",
    "\n",
    "- Pole.vault: Hauteur du saut à la perche (en mètres)\n",
    "\n",
    "- Javelin: Distance du lancer du javelot (en mètres)\n",
    "\n",
    "- 1500m: Temps sur 1500 mètres (en minutes:secondes)\n",
    "\n",
    "- Rank: Classement final de l'athlète dans la compétition (discrete)\n",
    "\n",
    "- Points: Score total de l'athlète sur les 10 épreuves (discrete)\n",
    "\n",
    "**Variables qualitatives:**\n",
    "\n",
    "- Competition: Nom de la compétition à laquelle l'athlète a participé (Jeux Olympiques d'Athènes ou Decastar)"
   ]
  },
  {
   "cell_type": "code",
   "execution_count": 2,
   "id": "64652309",
   "metadata": {
    "vscode": {
     "languageId": "r"
    }
   },
   "outputs": [
    {
     "name": "stderr",
     "output_type": "stream",
     "text": [
      "Le chargement a nécessité le package : ggplot2\n",
      "\n",
      "Registered S3 method overwritten by 'GGally':\n",
      "  method from   \n",
      "  +.gg   ggplot2\n",
      "\n"
     ]
    },
    {
     "data": {
      "image/png": "[encoded data removed]",
      "text/plain": [
       "plot without title"
      ]
     },
     "metadata": {
      "image/png": {
       "height": 420,
       "width": 420
      }
     },
     "output_type": "display_data"
    }
   ],
   "source": [
    "library(GGally)\n",
    "ggpairs(decathlon[,-1],lower = list(combo = wrap(\"facethist\", binwidth = 0.5)))\n"
   ]
  },
  {
   "cell_type": "markdown",
   "id": "caa93f91",
   "metadata": {},
   "source": [
    "- - - - - - -\n",
    "**commentaire:**\n",
    "- Il existe une corrélation entre `Points` et la majorité des autres variables, ce qui nécessite une étude plus approfondie.\n",
    "- Il y a une corrélation entre les deux variables `Points` et `Rank`, ce qui est logique car ces deux variables sont proportionnelles.\n",
    "- On observe une corrélation faible entre `Discus` et `Shot.put`, ce qui est logique car ces deux variables sont à peu près équivalentes.\n",
    "- On observe également d'autres corrélations faibles entre les différentes variables. Il est à noter qu'il n'est pas possible car cela n'a pas de sens de voir la corrélation entre deux variables qui mesurent la distance et le temps.\n",
    "-- - -- - - -"
   ]
  },
  {
   "cell_type": "code",
   "execution_count": 3,
   "id": "ffaa28b7",
   "metadata": {
    "vscode": {
     "languageId": "r"
    }
   },
   "outputs": [
    {
     "data": {
      "text/html": [
       "<table class=\"dataframe\">\n",
       "<caption>A matrix: 11 × 11 of type dbl</caption>\n",
       "<thead>\n",
       "\t<tr><th></th><th scope=col>X100m</th><th scope=col>Long.jump</th><th scope=col>Shot.put</th><th scope=col>High.jump</th><th scope=col>X400m</th><th scope=col>X110m.hurdle</th><th scope=col>Discus</th><th scope=col>Pole.vault</th><th scope=col>Javeline</th><th scope=col>X1500m</th><th scope=col>Rank</th></tr>\n",
       "</thead>\n",
       "<tbody>\n",
       "\t<tr><th scope=row>X100m</th><td> 1.00000000</td><td>-0.59867767</td><td>-0.35648227</td><td>-0.24625292</td><td> 0.520298155</td><td> 0.579888931</td><td>-0.2217076</td><td>-0.082536834</td><td>-0.157746452</td><td>-0.06054645</td><td> 0.29670366</td></tr>\n",
       "\t<tr><th scope=row>Long.jump</th><td>-0.59867767</td><td> 1.00000000</td><td> 0.18330436</td><td> 0.29464444</td><td>-0.602062618</td><td>-0.505410086</td><td> 0.1943101</td><td> 0.204014112</td><td> 0.119758933</td><td>-0.03368613</td><td>-0.60405452</td></tr>\n",
       "\t<tr><th scope=row>Shot.put</th><td>-0.35648227</td><td> 0.18330436</td><td> 1.00000000</td><td> 0.48921153</td><td>-0.138432919</td><td>-0.251615714</td><td> 0.6157681</td><td> 0.061181853</td><td> 0.374955509</td><td> 0.11580306</td><td>-0.36996958</td></tr>\n",
       "\t<tr><th scope=row>High.jump</th><td>-0.24625292</td><td> 0.29464444</td><td> 0.48921153</td><td> 1.00000000</td><td>-0.187956928</td><td>-0.283289090</td><td> 0.3692183</td><td>-0.156180742</td><td> 0.171880092</td><td>-0.04490252</td><td>-0.49276873</td></tr>\n",
       "\t<tr><th scope=row>X400m</th><td> 0.52029815</td><td>-0.60206262</td><td>-0.13843292</td><td>-0.18795693</td><td> 1.000000000</td><td> 0.547987756</td><td>-0.1178794</td><td>-0.079292469</td><td> 0.004232096</td><td> 0.40810643</td><td> 0.56211854</td></tr>\n",
       "\t<tr><th scope=row>X110m.hurdle</th><td> 0.57988893</td><td>-0.50541009</td><td>-0.25161571</td><td>-0.28328909</td><td> 0.547987756</td><td> 1.000000000</td><td>-0.3262010</td><td>-0.002703885</td><td> 0.008743251</td><td> 0.03754024</td><td> 0.43910228</td></tr>\n",
       "\t<tr><th scope=row>Discus</th><td>-0.22170757</td><td> 0.19431009</td><td> 0.61576810</td><td> 0.36921834</td><td>-0.117879365</td><td>-0.326200961</td><td> 1.0000000</td><td>-0.150072400</td><td> 0.157889799</td><td> 0.25817510</td><td>-0.38912515</td></tr>\n",
       "\t<tr><th scope=row>Pole.vault</th><td>-0.08253683</td><td> 0.20401411</td><td> 0.06118185</td><td>-0.15618074</td><td>-0.079292469</td><td>-0.002703885</td><td>-0.1500724</td><td> 1.000000000</td><td>-0.030000603</td><td> 0.24744778</td><td>-0.32037957</td></tr>\n",
       "\t<tr><th scope=row>Javeline</th><td>-0.15774645</td><td> 0.11975893</td><td> 0.37495551</td><td> 0.17188009</td><td> 0.004232096</td><td> 0.008743251</td><td> 0.1578898</td><td>-0.030000603</td><td> 1.000000000</td><td>-0.18039313</td><td>-0.20809465</td></tr>\n",
       "\t<tr><th scope=row>X1500m</th><td>-0.06054645</td><td>-0.03368613</td><td> 0.11580306</td><td>-0.04490252</td><td> 0.408106432</td><td> 0.037540240</td><td> 0.2581751</td><td> 0.247447780</td><td>-0.180393128</td><td> 1.00000000</td><td> 0.08989781</td></tr>\n",
       "\t<tr><th scope=row>Rank</th><td> 0.29670366</td><td>-0.60405452</td><td>-0.36996958</td><td>-0.49276873</td><td> 0.562118543</td><td> 0.439102281</td><td>-0.3891251</td><td>-0.320379567</td><td>-0.208094646</td><td> 0.08989781</td><td> 1.00000000</td></tr>\n",
       "</tbody>\n",
       "</table>\n"
      ],
      "text/latex": [
       "A matrix: 11 × 11 of type dbl\n",
       "\\begin{tabular}{r|lllllllllll}\n",
       "  & X100m & Long.jump & Shot.put & High.jump & X400m & X110m.hurdle & Discus & Pole.vault & Javeline & X1500m & Rank\\\\\n",
       "\\hline\n",
       "\tX100m &  1.00000000 & -0.59867767 & -0.35648227 & -0.24625292 &  0.520298155 &  0.579888931 & -0.2217076 & -0.082536834 & -0.157746452 & -0.06054645 &  0.29670366\\\\\n",
       "\tLong.jump & -0.59867767 &  1.00000000 &  0.18330436 &  0.29464444 & -0.602062618 & -0.505410086 &  0.1943101 &  0.204014112 &  0.119758933 & -0.03368613 & -0.60405452\\\\\n",
       "\tShot.put & -0.35648227 &  0.18330436 &  1.00000000 &  0.48921153 & -0.138432919 & -0.251615714 &  0.6157681 &  0.061181853 &  0.374955509 &  0.11580306 & -0.36996958\\\\\n",
       "\tHigh.jump & -0.24625292 &  0.29464444 &  0.48921153 &  1.00000000 & -0.187956928 & -0.283289090 &  0.3692183 & -0.156180742 &  0.171880092 & -0.04490252 & -0.49276873\\\\\n",
       "\tX400m &  0.52029815 & -0.60206262 & -0.13843292 & -0.18795693 &  1.000000000 &  0.547987756 & -0.1178794 & -0.079292469 &  0.004232096 &  0.40810643 &  0.56211854\\\\\n",
       "\tX110m.hurdle &  0.57988893 & -0.50541009 & -0.25161571 & -0.28328909 &  0.547987756 &  1.000000000 & -0.3262010 & -0.002703885 &  0.008743251 &  0.03754024 &  0.43910228\\\\\n",
       "\tDiscus & -0.22170757 &  0.19431009 &  0.61576810 &  0.36921834 & -0.117879365 & -0.326200961 &  1.0000000 & -0.150072400 &  0.157889799 &  0.25817510 & -0.38912515\\\\\n",
       "\tPole.vault & -0.08253683 &  0.20401411 &  0.06118185 & -0.15618074 & -0.079292469 & -0.002703885 & -0.1500724 &  1.000000000 & -0.030000603 &  0.24744778 & -0.32037957\\\\\n",
       "\tJaveline & -0.15774645 &  0.11975893 &  0.37495551 &  0.17188009 &  0.004232096 &  0.008743251 &  0.1578898 & -0.030000603 &  1.000000000 & -0.18039313 & -0.20809465\\\\\n",
       "\tX1500m & -0.06054645 & -0.03368613 &  0.11580306 & -0.04490252 &  0.408106432 &  0.037540240 &  0.2581751 &  0.247447780 & -0.180393128 &  1.00000000 &  0.08989781\\\\\n",
       "\tRank &  0.29670366 & -0.60405452 & -0.36996958 & -0.49276873 &  0.562118543 &  0.439102281 & -0.3891251 & -0.320379567 & -0.208094646 &  0.08989781 &  1.00000000\\\\\n",
       "\\end{tabular}\n"
      ],
      "text/markdown": [
       "\n",
       "A matrix: 11 × 11 of type dbl\n",
       "\n",
       "| <!--/--> | X100m | Long.jump | Shot.put | High.jump | X400m | X110m.hurdle | Discus | Pole.vault | Javeline | X1500m | Rank |\n",
       "|---|---|---|---|---|---|---|---|---|---|---|---|\n",
       "| X100m |  1.00000000 | -0.59867767 | -0.35648227 | -0.24625292 |  0.520298155 |  0.579888931 | -0.2217076 | -0.082536834 | -0.157746452 | -0.06054645 |  0.29670366 |\n",
       "| Long.jump | -0.59867767 |  1.00000000 |  0.18330436 |  0.29464444 | -0.602062618 | -0.505410086 |  0.1943101 |  0.204014112 |  0.119758933 | -0.03368613 | -0.60405452 |\n",
       "| Shot.put | -0.35648227 |  0.18330436 |  1.00000000 |  0.48921153 | -0.138432919 | -0.251615714 |  0.6157681 |  0.061181853 |  0.374955509 |  0.11580306 | -0.36996958 |\n",
       "| High.jump | -0.24625292 |  0.29464444 |  0.48921153 |  1.00000000 | -0.187956928 | -0.283289090 |  0.3692183 | -0.156180742 |  0.171880092 | -0.04490252 | -0.49276873 |\n",
       "| X400m |  0.52029815 | -0.60206262 | -0.13843292 | -0.18795693 |  1.000000000 |  0.547987756 | -0.1178794 | -0.079292469 |  0.004232096 |  0.40810643 |  0.56211854 |\n",
       "| X110m.hurdle |  0.57988893 | -0.50541009 | -0.25161571 | -0.28328909 |  0.547987756 |  1.000000000 | -0.3262010 | -0.002703885 |  0.008743251 |  0.03754024 |  0.43910228 |\n",
       "| Discus | -0.22170757 |  0.19431009 |  0.61576810 |  0.36921834 | -0.117879365 | -0.326200961 |  1.0000000 | -0.150072400 |  0.157889799 |  0.25817510 | -0.38912515 |\n",
       "| Pole.vault | -0.08253683 |  0.20401411 |  0.06118185 | -0.15618074 | -0.079292469 | -0.002703885 | -0.1500724 |  1.000000000 | -0.030000603 |  0.24744778 | -0.32037957 |\n",
       "| Javeline | -0.15774645 |  0.11975893 |  0.37495551 |  0.17188009 |  0.004232096 |  0.008743251 |  0.1578898 | -0.030000603 |  1.000000000 | -0.18039313 | -0.20809465 |\n",
       "| X1500m | -0.06054645 | -0.03368613 |  0.11580306 | -0.04490252 |  0.408106432 |  0.037540240 |  0.2581751 |  0.247447780 | -0.180393128 |  1.00000000 |  0.08989781 |\n",
       "| Rank |  0.29670366 | -0.60405452 | -0.36996958 | -0.49276873 |  0.562118543 |  0.439102281 | -0.3891251 | -0.320379567 | -0.208094646 |  0.08989781 |  1.00000000 |\n",
       "\n"
      ],
      "text/plain": [
       "             X100m       Long.jump   Shot.put    High.jump   X400m       \n",
       "X100m         1.00000000 -0.59867767 -0.35648227 -0.24625292  0.520298155\n",
       "Long.jump    -0.59867767  1.00000000  0.18330436  0.29464444 -0.602062618\n",
       "Shot.put     -0.35648227  0.18330436  1.00000000  0.48921153 -0.138432919\n",
       "High.jump    -0.24625292  0.29464444  0.48921153  1.00000000 -0.187956928\n",
       "X400m         0.52029815 -0.60206262 -0.13843292 -0.18795693  1.000000000\n",
       "X110m.hurdle  0.57988893 -0.50541009 -0.25161571 -0.28328909  0.547987756\n",
       "Discus       -0.22170757  0.19431009  0.61576810  0.36921834 -0.117879365\n",
       "Pole.vault   -0.08253683  0.20401411  0.06118185 -0.15618074 -0.079292469\n",
       "Javeline     -0.15774645  0.11975893  0.37495551  0.17188009  0.004232096\n",
       "X1500m       -0.06054645 -0.03368613  0.11580306 -0.04490252  0.408106432\n",
       "Rank          0.29670366 -0.60405452 -0.36996958 -0.49276873  0.562118543\n",
       "             X110m.hurdle Discus     Pole.vault   Javeline     X1500m     \n",
       "X100m         0.579888931 -0.2217076 -0.082536834 -0.157746452 -0.06054645\n",
       "Long.jump    -0.505410086  0.1943101  0.204014112  0.119758933 -0.03368613\n",
       "Shot.put     -0.251615714  0.6157681  0.061181853  0.374955509  0.11580306\n",
       "High.jump    -0.283289090  0.3692183 -0.156180742  0.171880092 -0.04490252\n",
       "X400m         0.547987756 -0.1178794 -0.079292469  0.004232096  0.40810643\n",
       "X110m.hurdle  1.000000000 -0.3262010 -0.002703885  0.008743251  0.03754024\n",
       "Discus       -0.326200961  1.0000000 -0.150072400  0.157889799  0.25817510\n",
       "Pole.vault   -0.002703885 -0.1500724  1.000000000 -0.030000603  0.24744778\n",
       "Javeline      0.008743251  0.1578898 -0.030000603  1.000000000 -0.18039313\n",
       "X1500m        0.037540240  0.2581751  0.247447780 -0.180393128  1.00000000\n",
       "Rank          0.439102281 -0.3891251 -0.320379567 -0.208094646  0.08989781\n",
       "             Rank       \n",
       "X100m         0.29670366\n",
       "Long.jump    -0.60405452\n",
       "Shot.put     -0.36996958\n",
       "High.jump    -0.49276873\n",
       "X400m         0.56211854\n",
       "X110m.hurdle  0.43910228\n",
       "Discus       -0.38912515\n",
       "Pole.vault   -0.32037957\n",
       "Javeline     -0.20809465\n",
       "X1500m        0.08989781\n",
       "Rank          1.00000000"
      ]
     },
     "metadata": {},
     "output_type": "display_data"
    }
   ],
   "source": [
    "# on peut également regarder les corrélations \n",
    "correlations <- cor(decathlon[,1:11])\n",
    "correlations"
   ]
  },
  {
   "cell_type": "markdown",
   "id": "7e8a6832-822b-4aab-9846-eab0c5f63bd3",
   "metadata": {},
   "source": [
    "## Régression linéaire simple\n",
    "\n",
    "On commence par expliquer la variable `Points` par la variable `Shot.put` qui mesure la longueur au lancer du poids.\n"
   ]
  },
  {
   "cell_type": "markdown",
   "id": "5ca4b45c",
   "metadata": {},
   "source": [
    "---------------------------------------------------\n",
    "***Formule de la régression simple***\n",
    "$$Y=\\beta_0+\\beta_1X+\\varepsilon$$\n",
    "\n",
    "$Y$ est la variable `Points`\n",
    "\n",
    "$X$ est la variable `Shot.put`\n",
    "\n",
    "$\\beta_0$ est l'intercept (la constante d'ordonnée à l'origine)\n",
    "\n",
    "$\\beta_1$ est la pente\n",
    "\n",
    "$\\varepsilon$ est l'erreur résiduelle\n",
    "\n",
    "donc le modèle s'écrit : $$Points=\\beta_0+\\beta_1Shot.put+\\varepsilon$$\n",
    "- - - - - - -- "
   ]
  },
  {
   "cell_type": "code",
   "execution_count": 4,
   "id": "70bad8ff",
   "metadata": {
    "vscode": {
     "languageId": "r"
    }
   },
   "outputs": [
    {
     "data": {
      "text/plain": [
       "\n",
       "Call:\n",
       "lm(formula = Points ~ Shot.put, data = decathlon)\n",
       "\n",
       "Residuals:\n",
       "    Min      1Q  Median      3Q     Max \n",
       "-716.77 -164.58   25.29  173.19  618.46 \n",
       "\n",
       "Coefficients:\n",
       "            Estimate Std. Error t value Pr(>|t|)    \n",
       "(Intercept)  4233.29     750.88   5.638 1.65e-06 ***\n",
       "Shot.put      260.56      51.78   5.031 1.13e-05 ***\n",
       "---\n",
       "Signif. codes:  0 '***' 0.001 '**' 0.01 '*' 0.05 '.' 0.1 ' ' 1\n",
       "\n",
       "Residual standard error: 270 on 39 degrees of freedom\n",
       "Multiple R-squared:  0.3936,\tAdjusted R-squared:  0.3781 \n",
       "F-statistic: 25.32 on 1 and 39 DF,  p-value: 1.134e-05\n"
      ]
     },
     "metadata": {},
     "output_type": "display_data"
    }
   ],
   "source": [
    "reg.simple <- lm(Points~Shot.put, data = decathlon)\n",
    "summary(reg.simple)"
   ]
  },
  {
   "cell_type": "markdown",
   "id": "546b8680",
   "metadata": {},
   "source": [
    "----------------------------------------------------------------------------------------------------------------------------------------\n",
    "- La section \"Résiduals\" présente un résumé de la distribution des résidus estimés.\n",
    "\n",
    "- Dans la section \"Coefficients\", les paramètres $\\beta_0$ (l'intercept) et $\\beta_1$ (la pente) sont analysés. Le test de nullité pour chaque coefficient peut être formulé comme suit :\n",
    "---------------------------------------------------------------------------------------------------------------------------------------\n",
    "### Test de nullité : \n",
    "\n",
    "sous l'hypthèse de gaussianité des $\\varepsilon$, alors on obtient des tests de significativité sur les paramètres $\\beta_0$ et $\\beta_1$ :\n",
    "\n",
    "**H_0 (Hypothèse nulle) :** $\\beta_k = 0$ contre\n",
    "\n",
    "**H_1 (Hypothèse alternative) :** $\\beta_k \\neq 0$ pour $k \\in \\{0,1\\}$\n",
    "\n",
    "La statistique du test suit une loi de Student. Les tests de significativité pour les deux coefficients donnent une p-value très petite ($1.65 \\times 10^{-6}$ et $1.13 \\times 10^{-5}$). \n",
    "\n",
    "Ainsi, l'hypothèse $H_0$ des deux tests est rejetée, et on conclut $H_1$, indiquant que l'intercept doit apparaître dans le modèle et la pente indique une liaison linéaire significative entre la variable points et la variable Shot.put des individus observés.\n",
    "\n",
    "----------------------------------------------------------------------------------------------------------------------------------\n",
    "### Test des modèles emboîtés : \n",
    "\n",
    "Soit les deux modèles \n",
    "\n",
    "$M_0$ : $Points=\\beta_0+\\varepsilon$\n",
    "\n",
    "$M_1$ : $Points=\\beta_0 + \\beta_1Shot.put+\\varepsilon$\n",
    "\n",
    "**H_0 (Hypothèse nulle) :** \" Le vrai modèle est $M_0$ \"\n",
    "\n",
    "**H_1 (Hypothèse alternative) :** \" Le vrai modèle est $M_1$ \"\n",
    "\n",
    "La statistique du test de Fisher sur les modèles emboîtés nous donne une p-value très faible ($1.134 \\times 10^{-5}$), ce qui signifie que nous rejetons l'hypothèse $H_0$ et concluons $H_1$, indiquant que $M_0$ est emboîté dans $M_1$ (un cas particulier de $M_1$). Conclure que le modèle de régression linéaire simple foncé sur `Shot.put` explique la variable `Points`.\n",
    "-- - -- - -  - - - - - - - -\n",
    "- Le coefficient de détermination $R^2$ vaut 0.3936 ce qui sginifie que la variable `Shot.put` explique $39$% de la variabilité de `Points`"
   ]
  },
  {
   "cell_type": "markdown",
   "id": "30bff5ad",
   "metadata": {},
   "source": [
    "### les graphiques usuels de diagnostic du modèle linéaire portant sur les résidus"
   ]
  },
  {
   "cell_type": "code",
   "execution_count": 5,
   "id": "57121a11",
   "metadata": {
    "vscode": {
     "languageId": "r"
    }
   },
   "outputs": [
    {
     "data": {
      "image/png": "[encoded data removed]",
      "text/plain": [
       "Plot with title \"\""
      ]
     },
     "metadata": {
      "image/png": {
       "height": 420,
       "width": 420
      }
     },
     "output_type": "display_data"
    }
   ],
   "source": [
    "library(\"ggplot2\")\n",
    "library(datasets)\n",
    "par(mfrow=c(2,2))\n",
    "plot(reg.simple)"
   ]
  },
  {
   "cell_type": "code",
   "execution_count": 6,
   "id": "fb3d03c4",
   "metadata": {
    "vscode": {
     "languageId": "r"
    }
   },
   "outputs": [
    {
     "data": {
      "image/png": "[encoded data removed]",
      "text/plain": [
       "Plot with title \"\""
      ]
     },
     "metadata": {
      "image/png": {
       "height": 420,
       "width": 420
      }
     },
     "output_type": "display_data"
    }
   ],
   "source": [
    "plot(reg.simple,which=1)"
   ]
  },
  {
   "cell_type": "markdown",
   "id": "5e083c64",
   "metadata": {},
   "source": [
    "Le graphe montre que les résidus estimés $\\hat \\varepsilon$ semblent être dispersés de manière aléatoire autour de la ligne zéro, mais il y a une légère tendance à la hausse. Cette tendance suggère que le modèle peut sous-estimer légèrement la variable dépendante.\n",
    "\n",
    "Des valeurs aberrantes extrêmes (points éloignés du reste des données) peuvent indiquer des points de données influents (individus : Clay, Korkizoglou, Casarsa semblent les plus problématiques)."
   ]
  },
  {
   "cell_type": "code",
   "execution_count": 7,
   "id": "6a2cfd53",
   "metadata": {
    "vscode": {
     "languageId": "r"
    }
   },
   "outputs": [
    {
     "data": {
      "image/png": "[encoded data removed]",
      "text/plain": [
       "Plot with title \"\""
      ]
     },
     "metadata": {
      "image/png": {
       "height": 420,
       "width": 420
      }
     },
     "output_type": "display_data"
    }
   ],
   "source": [
    "residuals <- residuals(reg.simple)\n",
    "par(mfrow = c(1, 2), mar = c(5, 4, 4, 2) + 0.1)\n",
    "hist(residuals, main = \"Histogramme des résidus\", xlab = \"Résidus\", ylab = \"Fréquence\", prob = TRUE)\n",
    "curve(dnorm(x, mean = mean(residuals), sd = sd(residuals)), col = \"darkblue\", lwd = 2, add = TRUE)\n",
    "plot(reg.simple, which = 2)\n"
   ]
  },
  {
   "cell_type": "markdown",
   "id": "2b3bfce5",
   "metadata": {},
   "source": [
    "Les deux graphiques semblent indiquer que les résidus estimés $\\hat \\varepsilon$ sont à peu près gaussiens. Les mêmes idividus  Clay, Korkizoglou, Casarsa semblent les plus problématiques."
   ]
  },
  {
   "cell_type": "code",
   "execution_count": 10,
   "id": "747fea95",
   "metadata": {
    "vscode": {
     "languageId": "r"
    }
   },
   "outputs": [
    {
     "data": {
      "image/png": "[encoded data removed]",
      "text/plain": [
       "plot without title"
      ]
     },
     "metadata": {
      "image/png": {
       "height": 420,
       "width": 420
      }
     },
     "output_type": "display_data"
    }
   ],
   "source": [
    "Shot.put <- data.frame(Shot.put = decathlon$Shot.put)\n",
    "predit <- predict(reg.simple, Shot.put, interval = \"pred\")\n",
    "decathlon.pred <- data.frame(Shot.put, y = predit[, \"fit\"], y.low = predit[, \"lwr\"], y.top = predit[, \"upr\"])\n",
    "\n",
    "plot1 <- ggplot(data = decathlon.pred, aes(x = Shot.put, y = decathlon$Points)) + \n",
    "  geom_point(shape = 5) + \n",
    "  geom_smooth(method = 'lm', formula = 'y~x') + \n",
    "  xlab('Shot.put') + \n",
    "  ylab('Points') +\n",
    "  ggtitle('Régression Linéaire Simple entre Shot.put et Points')\n",
    "\n",
    "plot1\n"
   ]
  },
  {
   "cell_type": "markdown",
   "id": "ec9f98ed",
   "metadata": {},
   "source": [
    "Plusieurs données se trouvent en dehors de l'intervalle de confiance. Nous traçons les lignes de prédiction pour voir si cela pourrait poser problème."
   ]
  },
  {
   "cell_type": "code",
   "execution_count": 11,
   "id": "8c4ac62b",
   "metadata": {
    "vscode": {
     "languageId": "r"
    }
   },
   "outputs": [
    {
     "data": {
      "image/png": "[encoded data removed]",
      "text/plain": [
       "Plot with title \"Régression linéaire de Points en fonction de Shot.put\""
      ]
     },
     "metadata": {
      "image/png": {
       "height": 420,
       "width": 420
      }
     },
     "output_type": "display_data"
    }
   ],
   "source": [
    "Shot.put <- data.frame(Shot.put = decathlon$Shot.put)\n",
    "predit <- predict(reg.simple, Shot.put, interval = \"pred\")\n",
    "decathlon.pred <- data.frame(Shot.put, y = predit[, \"fit\"], y.low = predit[, \"lwr\"], y.top = predit[, \"upr\"])\n",
    "\n",
    "plot(decathlon$Shot.put, decathlon$Points, xlab = \"Shot.put\", ylab = \"Points\", main = \"Régression linéaire de Points en fonction de Shot.put\")\n",
    "abline(reg.simple, col = \"red\")\n",
    "lines(Shot.put$Shot.put, predit[, \"lwr\"], col = 'green', lty = 2)\n",
    "lines(Shot.put$Shot.put, predit[, \"upr\"], col = 'green', lty = 2)\n"
   ]
  },
  {
   "cell_type": "markdown",
   "id": "38832fa8",
   "metadata": {},
   "source": [
    "On constate qu'il n'y a que 2 points en dehors de l'intervalle de prédiction, ce qui est acceptable. Identifiant les individus :"
   ]
  },
  {
   "cell_type": "code",
   "execution_count": 11,
   "id": "5af377af",
   "metadata": {
    "vscode": {
     "languageId": "r"
    }
   },
   "outputs": [
    {
     "data": {
      "image/png": "[encoded data removed]",
      "text/plain": [
       "plot without title"
      ]
     },
     "metadata": {
      "image/png": {
       "height": 420,
       "width": 420
      }
     },
     "output_type": "display_data"
    }
   ],
   "source": [
    "Shot.put <- data.frame(Shot.put = decathlon$Shot.put)\n",
    "predit <- predict(reg.simple, Shot.put, interval = \"pred\")\n",
    "decathlon.pred <- data.frame(Shot.put, y = predit[, \"fit\"], y.low = predit[, \"lwr\"], y.top = predit[, \"upr\"])\n",
    "\n",
    "ggplot(data = decathlon, aes(x = Shot.put, y = Points)) +\n",
    "  geom_point() +\n",
    "  geom_text(data = decathlon[c(15, 39, 41), ],\n",
    "            aes(label = rownames(decathlon)[c(15, 39, 41)]), \n",
    "            vjust = -0.5, hjust = -0.5,  \n",
    "            size = 4, color = \"red\", fontface = \"bold\") +\n",
    "  geom_smooth(method = 'lm', formula = 'y~x') +\n",
    "  geom_line(data = decathlon.pred, aes(x = Shot.put, y = y), color = \"red\") +\n",
    "  geom_line(data = decathlon.pred, aes(x = Shot.put, y = y.low), color = \"green\", linetype = 2) +\n",
    "  geom_line(data = decathlon.pred, aes(x = Shot.put, y = y.top), color = \"green\", linetype = 2) +\n",
    "  labs(x = \"Shot.put\", y = \"Points\", title = \"Régression linéaire de Points en fonction de Shot.put\")\n"
   ]
  },
  {
   "cell_type": "markdown",
   "id": "6f7299c1-2845-4e88-8b6d-95ad4dd4004c",
   "metadata": {},
   "source": [
    "## Régression linéaire multiple\n",
    "\n",
    "On va maintenant s'intéresser à une régression linéaire multiple pour expliquer la variable `Points` en fonction des 10 variables quantitatives qui donnent les performances des athlètes à chacune des épreuves."
   ]
  },
  {
   "cell_type": "markdown",
   "id": "e8853b7d",
   "metadata": {},
   "source": [
    "--------------------------------------------------------------------\n",
    "- Le modèle de régression linéaire multiple est exprimé mathématiquement comme suit :\n",
    "\n",
    "$\\text{Points}$ = $\\beta_0$ + $\\beta_1 \\times \\text{100m}$ + $\\beta_2 \\times \\text{Long.jump}$ + $\\beta_3 \\times \\text{Shot.put}$ + $\\beta_4 \\times \\text{High.jump}$ + $\\beta_5 \\times \\text{400m}$ + $\\beta_6 \\times \\text{110m.hurdle}$ + $\\beta_7 \\times \\text{Discus}$ + $\\beta_8 \\times \\text{Pole.vault}$ + $\\beta_9 \\times \\text{Javeline}$ + $\\beta_{10} \\times \\text{1500m}$\n",
    "\n",
    "Où :\n",
    "\n",
    "- $\\text{Points}$ est la variable dépendante (à expliquer).\n",
    "- $\\text{100m}$, $\\text{Long.jump}$, $\\text{Shot.put}$, $\\text{High.jump}$, $\\text{400m}$,$ \\text{110m.hurdle}$, $\\text{Discus}$, $\\text{Pole.vault}$, $\\text{Javeline}$, et $\\text{1500m}$ sont les variables indépendantes (explicatives).\n",
    "- $\\beta_0$, $\\beta_1$, $\\beta_2$, $\\beta_3$,$\\beta_4$, $\\beta_5$, $ \\beta_6$,$\\beta_7$, $\\beta_8$, $\\beta_9$, et $\\beta_{10}$ sont des coefficients constantes.\n",
    "------------------------------------------------\n"
   ]
  },
  {
   "cell_type": "code",
   "execution_count": 13,
   "id": "53f5ce19",
   "metadata": {
    "vscode": {
     "languageId": "r"
    }
   },
   "outputs": [
    {
     "data": {
      "text/plain": [
       "\n",
       "Call:\n",
       "lm(formula = Points ~ X100m + Long.jump + Shot.put + High.jump + \n",
       "    X400m + X110m.hurdle + Discus + Pole.vault + Javeline + X1500m, \n",
       "    data = decathlon)\n",
       "\n",
       "Residuals:\n",
       "    Min      1Q  Median      3Q     Max \n",
       "-6.3639 -2.2541 -0.4201  2.2568  5.7778 \n",
       "\n",
       "Coefficients:\n",
       "               Estimate Std. Error t value Pr(>|t|)    \n",
       "(Intercept)  8657.10618   54.20003  159.72   <2e-16 ***\n",
       "X100m        -228.34178    3.16231  -72.21   <2e-16 ***\n",
       "Long.jump     241.66481    2.59759   93.03   <2e-16 ***\n",
       "Shot.put       61.36077    1.04937   58.47   <2e-16 ***\n",
       "High.jump     900.06634    7.61188  118.25   <2e-16 ***\n",
       "X400m         -47.02718    0.80096  -58.71   <2e-16 ***\n",
       "X110m.hurdle -119.63278    1.60630  -74.48   <2e-16 ***\n",
       "Discus         21.17415    0.23969   88.34   <2e-16 ***\n",
       "Pole.vault    297.07104    2.34166  126.86   <2e-16 ***\n",
       "Javeline       14.97373    0.13311  112.49   <2e-16 ***\n",
       "X1500m         -6.12281    0.06729  -90.99   <2e-16 ***\n",
       "---\n",
       "Signif. codes:  0 '***' 0.001 '**' 0.01 '*' 0.05 '.' 0.1 ' ' 1\n",
       "\n",
       "Residual standard error: 3.449 on 30 degrees of freedom\n",
       "Multiple R-squared:  0.9999,\tAdjusted R-squared:  0.9999 \n",
       "F-statistic: 3.941e+04 on 10 and 30 DF,  p-value: < 2.2e-16\n"
      ]
     },
     "metadata": {},
     "output_type": "display_data"
    }
   ],
   "source": [
    "reg.multiple <- lm(Points ~ X100m + Long.jump + Shot.put + High.jump \n",
    "                    + X400m + X110m.hurdle + Discus + Pole.vault + Javeline + X1500m, data = decathlon)\n",
    "summary(reg.multiple)"
   ]
  },
  {
   "cell_type": "markdown",
   "id": "269b37c3",
   "metadata": {},
   "source": [
    "---------------------------------------------------------------\n",
    "### Test de nullité : \n",
    "\n",
    "sous l'hypthèse de gaussianité des $\\varepsilon$, alors on obtient des tests de significativité sur les paramètres $\\beta_k$ pour $k \\in \\{0,1..,10\\}$ :\n",
    "\n",
    "**$H_{0,k}$ (Hypothèse nulle) :** $\\beta_k = 0$ contre\n",
    "\n",
    "**$H_{1,k}$ (Hypothèse alternative) :** $\\beta_k \\neq 0$ pour $k \\in \\{0,1,..,10\\}$\n",
    "\n",
    "### Conclusion :\n",
    "\n",
    "Tous les estimateurs ont une p-value $< 2 \\times 10^{-16}$, ce qui signifie que nous rejetons $H_{0,k}$ pour $k \\in \\{0,1..,10\\}$ et concluons $H_{1,k}$ pour $k \\in \\{0,1..,10\\}$. Autrement dit, le modèle de régression est significatif, ce qui indique que toutes les variables ont une relation significative avec la variable dépendante.\n",
    " -- - - - - - - - - -- -\n",
    "\n",
    "### Test des modèles emboîtés : \n",
    "\n",
    "Soit les deux modèles \n",
    "\n",
    "**(Modèle minimal)** $M_0$ : $Points=\\beta_0+\\varepsilon$\n",
    "\n",
    "**(Modèle maximal)** $M_1$ : $\\text{Points}$ = $\\beta_0$ + $\\beta_1 \\times \\text{100m}$ + $\\beta_2 \\times \\text{Long.jump}$ + $\\beta_3 \\times \\text{Shot.put}$ + $\\beta_4 \\times \\text{High.jump}$ + $\\beta_5 \\times \\text{400m}$ + $\\beta_6 \\times \\text{110m.hurdle}$ + $\\beta_7 \\times \\text{Discus}$ + $\\beta_8 \\times \\text{Pole.vault}$ + $\\beta_9 \\times \\text{Javeline}$ + $\\beta_{10} \\times \\text{1500m}$\n",
    "\n",
    "**H_0 (Hypothèse nulle) :** \" Le vrai modèle est $M_0$ \"\n",
    "\n",
    "**H_1 (Hypothèse alternative) :** \" Le vrai modèle est $M_1$ \"\n",
    "\n",
    "La statistique du test de Fisher sur les modèles emboîtés nous donne une p-value très faible ($2.2 \\times 10^{-16}$), ce qui signifie que nous rejetons l'hypothèse $H_0$ et concluons $H_1$, indiquant que $M_0$ est emboîté dans $M_1$ et que le modèle avec plus de prédicteurs est significativement meilleur que le modèle avec moins de prédicteurs.\n",
    "\n",
    "Dans ce cas, on peut déduire que l'ajout des variables explicatives améliore significativement l'ajustement du modèle.\n",
    "- -- -- - - - - -\n",
    "\n",
    "### Explication des valeurs R² :\n",
    "\n",
    "- **Coefficient de Détermination (R²) :** $R^2 = 0.9999$ indique que $99.99$ % de la variance de la variable dépendante `Points` est expliquée par le modèle.\n",
    "\n",
    "- **R² ajusté :** $R^2_{\\text{ajusté}} = 0.9999$, ce qui signifie que $99.99$ % de la variance de la variable dépendante est expliquée par le modèle ajusté pour la taille du modèle et la taille de l'échantillon.\n",
    "---- - - - - --  -- \n",
    "- **coclusion:** Les tests de régression multiple révèlent que toutes les variables explicatives sont significativement associées à la variable 'Points', et l'ajout de ces variables entraîne un coefficient de détermination proche de 100%, indiquant ainsi un ajustement très élevé du modèle.\n",
    "- - -- - - -"
   ]
  },
  {
   "cell_type": "markdown",
   "id": "23ba5b6b-6407-4f8b-865b-3cabb566c590",
   "metadata": {},
   "source": [
    "# Jeu de données Brochets - Regression Polynomiale\n",
    "Dans cette partie, on travaille sur le jeu de données `Brochet.txt`. \n",
    "Pour étudier la possible bioaccumulation d'un pesticide appelé le DDT chez les brochets, on a mesuré le taux de DDT (variable `TxDDT`) dans la chair de brochets de différents âges (variable `Age`), capturés dans une même rivière. On cherche à décrire la relation potentielle entre le taux de DDT et l'âge des brochets. "
   ]
  },
  {
   "cell_type": "code",
   "execution_count": 12,
   "id": "17246a5f",
   "metadata": {
    "vscode": {
     "languageId": "r"
    }
   },
   "outputs": [
    {
     "data": {
      "text/html": [
       "<table class=\"dataframe\">\n",
       "<caption>A data.frame: 6 × 3</caption>\n",
       "<thead>\n",
       "\t<tr><th></th><th scope=col>Obs</th><th scope=col>Age</th><th scope=col>TxDDT</th></tr>\n",
       "\t<tr><th></th><th scope=col>&lt;int&gt;</th><th scope=col>&lt;int&gt;</th><th scope=col>&lt;dbl&gt;</th></tr>\n",
       "</thead>\n",
       "<tbody>\n",
       "\t<tr><th scope=row>1</th><td>1</td><td>2</td><td>0.20</td></tr>\n",
       "\t<tr><th scope=row>2</th><td>2</td><td>2</td><td>0.25</td></tr>\n",
       "\t<tr><th scope=row>3</th><td>3</td><td>2</td><td>0.18</td></tr>\n",
       "\t<tr><th scope=row>4</th><td>4</td><td>3</td><td>0.19</td></tr>\n",
       "\t<tr><th scope=row>5</th><td>5</td><td>3</td><td>0.29</td></tr>\n",
       "\t<tr><th scope=row>6</th><td>6</td><td>3</td><td>0.28</td></tr>\n",
       "</tbody>\n",
       "</table>\n"
      ],
      "text/latex": [
       "A data.frame: 6 × 3\n",
       "\\begin{tabular}{r|lll}\n",
       "  & Obs & Age & TxDDT\\\\\n",
       "  & <int> & <int> & <dbl>\\\\\n",
       "\\hline\n",
       "\t1 & 1 & 2 & 0.20\\\\\n",
       "\t2 & 2 & 2 & 0.25\\\\\n",
       "\t3 & 3 & 2 & 0.18\\\\\n",
       "\t4 & 4 & 3 & 0.19\\\\\n",
       "\t5 & 5 & 3 & 0.29\\\\\n",
       "\t6 & 6 & 3 & 0.28\\\\\n",
       "\\end{tabular}\n"
      ],
      "text/markdown": [
       "\n",
       "A data.frame: 6 × 3\n",
       "\n",
       "| <!--/--> | Obs &lt;int&gt; | Age &lt;int&gt; | TxDDT &lt;dbl&gt; |\n",
       "|---|---|---|---|\n",
       "| 1 | 1 | 2 | 0.20 |\n",
       "| 2 | 2 | 2 | 0.25 |\n",
       "| 3 | 3 | 2 | 0.18 |\n",
       "| 4 | 4 | 3 | 0.19 |\n",
       "| 5 | 5 | 3 | 0.29 |\n",
       "| 6 | 6 | 3 | 0.28 |\n",
       "\n"
      ],
      "text/plain": [
       "  Obs Age TxDDT\n",
       "1 1   2   0.20 \n",
       "2 2   2   0.25 \n",
       "3 3   2   0.18 \n",
       "4 4   3   0.19 \n",
       "5 5   3   0.29 \n",
       "6 6   3   0.28 "
      ]
     },
     "metadata": {},
     "output_type": "display_data"
    },
    {
     "data": {
      "text/plain": [
       "      Obs            Age        TxDDT      \n",
       " Min.   : 1.0   Min.   :2   Min.   :0.180  \n",
       " 1st Qu.: 4.5   1st Qu.:3   1st Qu.:0.265  \n",
       " Median : 8.0   Median :4   Median :0.330  \n",
       " Mean   : 8.0   Mean   :4   Mean   :0.450  \n",
       " 3rd Qu.:11.5   3rd Qu.:5   3rd Qu.:0.590  \n",
       " Max.   :15.0   Max.   :6   Max.   :1.100  "
      ]
     },
     "metadata": {},
     "output_type": "display_data"
    },
    {
     "data": {
      "text/html": [
       "<style>\n",
       ".list-inline {list-style: none; margin:0; padding: 0}\n",
       ".list-inline>li {display: inline-block}\n",
       ".list-inline>li:not(:last-child)::after {content: \"\\00b7\"; padding: 0 .5ex}\n",
       "</style>\n",
       "<ol class=list-inline><li>15</li><li>3</li></ol>\n"
      ],
      "text/latex": [
       "\\begin{enumerate*}\n",
       "\\item 15\n",
       "\\item 3\n",
       "\\end{enumerate*}\n"
      ],
      "text/markdown": [
       "1. 15\n",
       "2. 3\n",
       "\n",
       "\n"
      ],
      "text/plain": [
       "[1] 15  3"
      ]
     },
     "metadata": {},
     "output_type": "display_data"
    },
    {
     "name": "stdout",
     "output_type": "stream",
     "text": [
      "'data.frame':\t15 obs. of  3 variables:\n",
      " $ Obs  : int  1 2 3 4 5 6 7 8 9 10 ...\n",
      " $ Age  : int  2 2 2 3 3 3 4 4 4 5 ...\n",
      " $ TxDDT: num  0.2 0.25 0.18 0.19 0.29 0.28 0.31 0.33 0.36 0.71 ...\n",
      "Coefficient de corrélation entre l'âge et le taux de DDT : 0.8728933 \n"
     ]
    },
    {
     "data": {
      "image/png": "[encoded data removed]",
      "text/plain": [
       "Plot with title \"Nuage de points entre l'âge et le taux de DDT\""
      ]
     },
     "metadata": {
      "image/png": {
       "height": 420,
       "width": 420
      }
     },
     "output_type": "display_data"
    }
   ],
   "source": [
    "Data_Brochets <- read.table('Brochet.txt', header = TRUE)\n",
    "head(Data_Brochets)\n",
    "summary(Data_Brochets)\n",
    "dim(Data_Brochets)\n",
    "str(Data_Brochets)\n",
    "correlation <- cor(Data_Brochets$Age, Data_Brochets$TxDDT)\n",
    "cat(\"Coefficient de corrélation entre l'âge et le taux de DDT :\", correlation, \"\\n\")\n",
    "plot(Data_Brochets$Age, Data_Brochets$TxDDT,\n",
    "     xlab = \"Âge\",\n",
    "     ylab = \"Taux de DDT\",\n",
    "     main = \"Nuage de points entre l'âge et le taux de DDT\")"
   ]
  },
  {
   "cell_type": "code",
   "execution_count": 14,
   "id": "354036af",
   "metadata": {
    "vscode": {
     "languageId": "r"
    }
   },
   "outputs": [
    {
     "name": "stderr",
     "output_type": "stream",
     "text": [
      "\u001b[1m\u001b[22m`geom_smooth()` using formula = 'y ~ x'\n"
     ]
    },
    {
     "data": {
      "image/png": "[encoded data removed]",
      "text/plain": [
       "plot without title"
      ]
     },
     "metadata": {
      "image/png": {
       "height": 420,
       "width": 420
      }
     },
     "output_type": "display_data"
    }
   ],
   "source": [
    "ggplot(Data_Brochets, aes(x = Age, y = TxDDT)) +\n",
    "  geom_point() +\n",
    "  geom_smooth(method = \"lm\", se = FALSE) +\n",
    "  labs(x = \"Âge du brochet\", y = \"Taux de DDT\") +  \n",
    "  ggtitle(\"Régression simple entre l'âge et le taux de DDT chez les brochets\") +  \n",
    "  theme_minimal()"
   ]
  },
  {
   "cell_type": "markdown",
   "id": "006dcb24-71a4-4380-9fda-c0d2959a5bf9",
   "metadata": {},
   "source": [
    "On souhaite faire une régression polynomiale d'ordre 2 de la variable `TxDDT` sur la variable `Age`; i.e pour le $i$ème individu, on écrit\n",
    "\n",
    "$$\n",
    "TxDDT_i = \\beta_0 +\\beta_1 * Age_i + \\beta_2* Age_i ^2 + \\varepsilon_i\n",
    "$$"
   ]
  },
  {
   "cell_type": "code",
   "execution_count": 16,
   "id": "5960b0c2",
   "metadata": {
    "vscode": {
     "languageId": "r"
    }
   },
   "outputs": [
    {
     "data": {
      "text/plain": [
       "\n",
       "Call:\n",
       "lm(formula = TxDDT ~ poly(Age, 2, raw = TRUE), data = Data_Brochets)\n",
       "\n",
       "Residuals:\n",
       "     Min       1Q   Median       3Q      Max \n",
       "-0.18086 -0.04595 -0.01905  0.04638  0.18638 \n",
       "\n",
       "Coefficients:\n",
       "                          Estimate Std. Error t value Pr(>|t|)   \n",
       "(Intercept)                0.61133    0.23096   2.647  0.02130 * \n",
       "poly(Age, 2, raw = TRUE)1 -0.31248    0.12558  -2.488  0.02853 * \n",
       "poly(Age, 2, raw = TRUE)2  0.06048    0.01553   3.894  0.00213 **\n",
       "---\n",
       "Signif. codes:  0 '***' 0.001 '**' 0.01 '*' 0.05 '.' 0.1 ' ' 1\n",
       "\n",
       "Residual standard error: 0.1006 on 12 degrees of freedom\n",
       "Multiple R-squared:  0.8948,\tAdjusted R-squared:  0.8773 \n",
       "F-statistic: 51.06 on 2 and 12 DF,  p-value: 1.352e-06\n"
      ]
     },
     "metadata": {},
     "output_type": "display_data"
    }
   ],
   "source": [
    "reg.pol <- lm(TxDDT ~ poly(Age, 2, raw = TRUE), data = Data_Brochets)\n",
    "summary(reg.pol)\n"
   ]
  },
  {
   "cell_type": "code",
   "execution_count": 17,
   "id": "b27fb100",
   "metadata": {
    "vscode": {
     "languageId": "r"
    }
   },
   "outputs": [
    {
     "data": {
      "text/plain": [
       "\n",
       "Call:\n",
       "lm(formula = TxDDT ~ Age + I(Age^2), data = Data_Brochets)\n",
       "\n",
       "Residuals:\n",
       "     Min       1Q   Median       3Q      Max \n",
       "-0.18086 -0.04595 -0.01905  0.04638  0.18638 \n",
       "\n",
       "Coefficients:\n",
       "            Estimate Std. Error t value Pr(>|t|)   \n",
       "(Intercept)  0.61133    0.23096   2.647  0.02130 * \n",
       "Age         -0.31248    0.12558  -2.488  0.02853 * \n",
       "I(Age^2)     0.06048    0.01553   3.894  0.00213 **\n",
       "---\n",
       "Signif. codes:  0 '***' 0.001 '**' 0.01 '*' 0.05 '.' 0.1 ' ' 1\n",
       "\n",
       "Residual standard error: 0.1006 on 12 degrees of freedom\n",
       "Multiple R-squared:  0.8948,\tAdjusted R-squared:  0.8773 \n",
       "F-statistic: 51.06 on 2 and 12 DF,  p-value: 1.352e-06\n"
      ]
     },
     "metadata": {},
     "output_type": "display_data"
    }
   ],
   "source": [
    "reg.pol <- lm(TxDDT ~ Age + I(Age^2), data = Data_Brochets)\n",
    "summary(reg.pol)\n"
   ]
  },
  {
   "cell_type": "markdown",
   "id": "3365b61b",
   "metadata": {},
   "source": [
    "--------------------------------------------\n",
    "- \"Résiduals\" comme dans le cas de la régression simple présente un résumé de la distribution des résidus estimés.\n",
    "- la section \"Coefficients\" présente\n",
    "    - Intercept (Constante): 0.61133. L'ordonnée à l'origine de la régression. Elle représente le niveau de TxDDT lorsque l'âge est nul.\n",
    "    - poly(Age, 2, raw = TRUE)1 (Age): -0.31248. Le coefficient associé à l'âge. Il représente la pente de la première composante du polynôme.\n",
    "    - poly(Age, 2, raw = TRUE)2 (Age^2): 0.06048. Le coefficient associé à l'âge au carré. Il représente la pente de la deuxième composante du polynôme."
   ]
  },
  {
   "cell_type": "code",
   "execution_count": 18,
   "id": "21a18823",
   "metadata": {
    "vscode": {
     "languageId": "r"
    }
   },
   "outputs": [
    {
     "data": {
      "image/png": "[encoded data removed]",
      "text/plain": [
       "Plot with title \"\""
      ]
     },
     "metadata": {
      "image/png": {
       "height": 420,
       "width": 420
      }
     },
     "output_type": "display_data"
    }
   ],
   "source": [
    "par(mfrow=c(2,2))\n",
    "plot(reg.pol)"
   ]
  },
  {
   "cell_type": "code",
   "execution_count": 19,
   "id": "473bde0e",
   "metadata": {
    "vscode": {
     "languageId": "r"
    }
   },
   "outputs": [
    {
     "data": {
      "image/png": "[encoded data removed]",
      "text/plain": [
       "Plot with title \"\""
      ]
     },
     "metadata": {
      "image/png": {
       "height": 420,
       "width": 420
      }
     },
     "output_type": "display_data"
    }
   ],
   "source": [
    "plot.pol.1 <- plot(reg.pol, which = 1)"
   ]
  },
  {
   "cell_type": "markdown",
   "id": "9cd2a05f",
   "metadata": {},
   "source": [
    "------- - - - -- - - \n",
    "**Commentaire :**\n",
    "Le nuage de points est approximativement dispersé aléatoirement autour de la ligne horizontale $y = 0$, l'homoscédasticité est probablement respectées, ce qui renforce la validité du modèle de régression.\n",
    "\n",
    "Des valeurs aberrantes extrêmes sont les indices i=10,11,13 semblent les plus problématiques.\n",
    "-- --- --"
   ]
  },
  {
   "cell_type": "code",
   "execution_count": 20,
   "id": "4aa0e646",
   "metadata": {
    "vscode": {
     "languageId": "r"
    }
   },
   "outputs": [
    {
     "data": {
      "text/plain": [
       "\n",
       "\tShapiro-Wilk normality test\n",
       "\n",
       "data:  residuals.pol\n",
       "W = 0.97194, p-value = 0.8856\n"
      ]
     },
     "metadata": {},
     "output_type": "display_data"
    },
    {
     "data": {
      "image/png": "[encoded data removed]",
      "text/plain": [
       "Plot with title \"\""
      ]
     },
     "metadata": {
      "image/png": {
       "height": 420,
       "width": 420
      }
     },
     "output_type": "display_data"
    }
   ],
   "source": [
    "par(mfrow = c(1, 2),mar = c(5, 4, 4, 2) + 0.1)\n",
    "residuals.pol <- residuals(reg.pol)\n",
    "hist(residuals.pol, main = \"Histogramme des résidus\", xlab = \"Résidus\", ylab = \"Fréquence\")\n",
    "curve(dnorm(x, mean = mean(residuals.pol), sd = sd(residuals)), col = \"darkblue\", lwd = 2, add = TRUE)\n",
    "plot.pol.2 <- plot(reg.pol, which = 2)\n",
    "shapiro.test(residuals.pol)"
   ]
  },
  {
   "cell_type": "markdown",
   "id": "d3adcaad",
   "metadata": {},
   "source": [
    "-- - - -- - - \n",
    "**commentaire :**\n",
    "La distribution des résidus semble approximativement normale, le test de Shapiro montre une p-value supérieur à 0.05 donc on rejette pas l'hypothese de normalité. Comme indiqué par la symétrie relative du nuage de points autour de la ligne $y = 0$,\n",
    "et les mêmes indices que ci-dessus pourraient poser un problème.\n",
    "-- --- --"
   ]
  },
  {
   "cell_type": "markdown",
   "id": "ae83f737-e025-4b06-97ac-155416458481",
   "metadata": {},
   "source": [
    "On transforme la variable `DDT`en $\\log(DDT)$.On fait la  régression de cette nouvelle variable sur la variable `Age^2` et on visualise les diagnostics de résidus."
   ]
  },
  {
   "cell_type": "code",
   "execution_count": 21,
   "id": "936c8b5f",
   "metadata": {
    "vscode": {
     "languageId": "r"
    }
   },
   "outputs": [
    {
     "data": {
      "text/plain": [
       "\n",
       "Call:\n",
       "lm(formula = logTxDDT ~ poly(Age, 2, raw = TRUE), data = Data_Brochets)\n",
       "\n",
       "Residuals:\n",
       "     Min       1Q   Median       3Q      Max \n",
       "-0.30079 -0.09397 -0.04723  0.14917  0.32431 \n",
       "\n",
       "Coefficients:\n",
       "                          Estimate Std. Error t value Pr(>|t|)   \n",
       "(Intercept)               -1.45485    0.43331  -3.358   0.0057 **\n",
       "poly(Age, 2, raw = TRUE)1 -0.19454    0.23561  -0.826   0.4251   \n",
       "poly(Age, 2, raw = TRUE)2  0.07043    0.02913   2.417   0.0325 * \n",
       "---\n",
       "Signif. codes:  0 '***' 0.001 '**' 0.01 '*' 0.05 '.' 0.1 ' ' 1\n",
       "\n",
       "Residual standard error: 0.1888 on 12 degrees of freedom\n",
       "Multiple R-squared:  0.9093,\tAdjusted R-squared:  0.8942 \n",
       "F-statistic: 60.18 on 2 and 12 DF,  p-value: 5.553e-07\n"
      ]
     },
     "metadata": {},
     "output_type": "display_data"
    }
   ],
   "source": [
    "Data_Brochets$logTxDDT <- log(Data_Brochets$TxDDT)\n",
    "model_log <- lm(logTxDDT ~ poly(Age, 2, raw = TRUE), data = Data_Brochets)\n",
    "summary(model_log)"
   ]
  },
  {
   "cell_type": "code",
   "execution_count": 29,
   "id": "ce9f9888",
   "metadata": {
    "vscode": {
     "languageId": "r"
    }
   },
   "outputs": [
    {
     "data": {
      "image/png": "[encoded data removed]",
      "text/plain": [
       "Plot with title \"\""
      ]
     },
     "metadata": {
      "image/png": {
       "height": 420,
       "width": 420
      }
     },
     "output_type": "display_data"
    }
   ],
   "source": [
    "par(mfrow=c(2,2))\n",
    "plot(reg.pol)"
   ]
  },
  {
   "cell_type": "code",
   "execution_count": 22,
   "id": "42062670",
   "metadata": {
    "vscode": {
     "languageId": "r"
    }
   },
   "outputs": [
    {
     "data": {
      "image/png": "[encoded data removed]",
      "text/plain": [
       "Plot with title \"\""
      ]
     },
     "metadata": {
      "image/png": {
       "height": 420,
       "width": 420
      }
     },
     "output_type": "display_data"
    }
   ],
   "source": [
    "plot(model_log, which = 1)"
   ]
  },
  {
   "cell_type": "markdown",
   "id": "518fdfe4",
   "metadata": {},
   "source": [
    "---- - - - --\n",
    "**commentaire:** Il semble y avoir une tendance générale à l'augmentation du taux de DDT avec l'âge des brochets. le nuage de points est dispersé, ce qui indique qu'il y a une certaine variabilité dans la relation entre les deux variables.\n",
    "\n",
    "Il semble aussi y avoir quelques points outliers (valeurs aberrantes) d'indices i = 4,10,11 qui s'écartent significativement de la tendance générale.\n",
    "------- - --"
   ]
  },
  {
   "cell_type": "code",
   "execution_count": 57,
   "id": "025d1291",
   "metadata": {
    "vscode": {
     "languageId": "r"
    }
   },
   "outputs": [
    {
     "data": {
      "text/plain": [
       "\n",
       "\tShapiro-Wilk normality test\n",
       "\n",
       "data:  residuals_log\n",
       "W = 0.96903, p-value = 0.8434\n"
      ]
     },
     "metadata": {},
     "output_type": "display_data"
    },
    {
     "data": {
      "image/png": "[encoded data removed]",
      "text/plain": [
       "Plot with title \"\""
      ]
     },
     "metadata": {
      "image/png": {
       "height": 420,
       "width": 420
      }
     },
     "output_type": "display_data"
    }
   ],
   "source": [
    "\n",
    "plot(model_log, which = 2)\n",
    "shapiro.test(residuals_log)"
   ]
  },
  {
   "cell_type": "markdown",
   "id": "6ed0578c",
   "metadata": {},
   "source": [
    "- - - - - -- - - \n",
    "**commentaire:**  \n",
    "- les points sont approximativement alignés sur une ligne droite, ce qui suggère que les données suivent une distribution normale. Cependant, on peut observer quelques points qui s'écartent légèrement de la ligne droite. Cela pourrait indiquer que les données ne sont pas parfaitement normales.\n",
    "\n",
    "- Le test de Shapiro a produit une p-value =  0.84, ce qui indique que nous ne rejetons pas l'hypothèse selon laquelle les résidus suivent une distribution normale.\n",
    "- - - - - - - - "
   ]
  },
  {
   "cell_type": "markdown",
   "id": "0b4b9339-cb97-4a20-815e-c03e5f780fc7",
   "metadata": {},
   "source": [
    "# Régression de Poisson - régression log-linéaire\n",
    "\n",
    "La régression de Poisson est une technique de modélisation qui peut être utilisée pour prédire les comptages. Dans ce cas, nous définissons les effectifs comme le nombre d'occurrences d'un événement dans une période de temps donnée. Une façon équivalente de considérer les chiffres est de considérer les taux. En statistiques, nous utilisons fréquemment la distribution de Poisson lorsque nous travaillons avec des comptages d'événements, et ce concept peut être étendu à la régression. Cette section examinera un modèle de régression pour le nombre de cyclistes qui traversent un pont à New York, basé sur des variables prédictives qui incluent le jour de la semaine, la température (haute et basse), et la présence de précipitations.\n",
    "\n",
    "## NYC Bicycle counts\n",
    "L'ensemble de données contient 214 observations et 6 variables :\n",
    "\n",
    " * `doy` : Jour de l'année\n",
    " * `weekday` : Jour de la semaine\n",
    " * `hightemp` : La température maximale quotidienne\n",
    " * `lowtemp` : La température basse du jour\n",
    " * `precip_trace` : La quantité de précipitation\n",
    " * `precip_snow` : La quantité de précipitations sous forme de neige \n",
    " * `count` : Le nombre de cyclistes qui passent par jour sur le pont de Williamburg à New York \n",
    " * `count_scaled` : Le nombre de cyclistes qui passent par jour sur le pont de Williamburg à New York divisé par 1000\n"
   ]
  },
  {
   "cell_type": "markdown",
   "id": "b4b711f8-6462-4f7c-84e2-5a4aa1b34faf",
   "metadata": {},
   "source": [
    "* Chargement des données dans une dataframe et changement du type de la colonne `count_scaled`, pour qu'elle contienne uniquement des entiers. \n",
    "* Analyse exploratoire des données en examinant la distribution de la variable `count` en fonction de la variable catégorielle, le jour de la semaine.\n",
    "* Une analyse des variables quantitatives `hightemp`, `lowtemp`, `precip_rain`, `precip_snow` et `count`. On pourra notamment regarder les corrélations bivariées et commenter les résultats qui semblent pertinents."
   ]
  },
  {
   "cell_type": "code",
   "execution_count": 24,
   "id": "44fd5eba",
   "metadata": {
    "vscode": {
     "languageId": "r"
    }
   },
   "outputs": [
    {
     "data": {
      "text/html": [
       "<table class=\"dataframe\">\n",
       "<caption>A data.frame: 6 × 7</caption>\n",
       "<thead>\n",
       "\t<tr><th></th><th scope=col>weekday</th><th scope=col>hightemp</th><th scope=col>lowtemp</th><th scope=col>precip_rain</th><th scope=col>precip_snow</th><th scope=col>count</th><th scope=col>count_scaled</th></tr>\n",
       "\t<tr><th></th><th scope=col>&lt;chr&gt;</th><th scope=col>&lt;dbl&gt;</th><th scope=col>&lt;dbl&gt;</th><th scope=col>&lt;dbl&gt;</th><th scope=col>&lt;dbl&gt;</th><th scope=col>&lt;int&gt;</th><th scope=col>&lt;dbl&gt;</th></tr>\n",
       "</thead>\n",
       "<tbody>\n",
       "\t<tr><th scope=row>1</th><td>Friday   </td><td>78.1</td><td>66.0</td><td>0.01</td><td>0.00</td><td>4115</td><td>4.115</td></tr>\n",
       "\t<tr><th scope=row>2</th><td>Saturday </td><td>55.0</td><td>48.9</td><td>0.15</td><td>0.00</td><td>2565</td><td>2.565</td></tr>\n",
       "\t<tr><th scope=row>3</th><td>Sunday   </td><td>39.9</td><td>34.0</td><td>0.09</td><td>0.00</td><td>1695</td><td>1.695</td></tr>\n",
       "\t<tr><th scope=row>4</th><td>Monday   </td><td>44.1</td><td>33.1</td><td>0.00</td><td>0.47</td><td>1440</td><td>1.440</td></tr>\n",
       "\t<tr><th scope=row>5</th><td>Tuesday  </td><td>42.1</td><td>26.1</td><td>0.00</td><td>0.00</td><td>3081</td><td>3.081</td></tr>\n",
       "\t<tr><th scope=row>6</th><td>Wednesday</td><td>45.0</td><td>30.0</td><td>0.00</td><td>0.00</td><td>3856</td><td>3.856</td></tr>\n",
       "</tbody>\n",
       "</table>\n"
      ],
      "text/latex": [
       "A data.frame: 6 × 7\n",
       "\\begin{tabular}{r|lllllll}\n",
       "  & weekday & hightemp & lowtemp & precip\\_rain & precip\\_snow & count & count\\_scaled\\\\\n",
       "  & <chr> & <dbl> & <dbl> & <dbl> & <dbl> & <int> & <dbl>\\\\\n",
       "\\hline\n",
       "\t1 & Friday    & 78.1 & 66.0 & 0.01 & 0.00 & 4115 & 4.115\\\\\n",
       "\t2 & Saturday  & 55.0 & 48.9 & 0.15 & 0.00 & 2565 & 2.565\\\\\n",
       "\t3 & Sunday    & 39.9 & 34.0 & 0.09 & 0.00 & 1695 & 1.695\\\\\n",
       "\t4 & Monday    & 44.1 & 33.1 & 0.00 & 0.47 & 1440 & 1.440\\\\\n",
       "\t5 & Tuesday   & 42.1 & 26.1 & 0.00 & 0.00 & 3081 & 3.081\\\\\n",
       "\t6 & Wednesday & 45.0 & 30.0 & 0.00 & 0.00 & 3856 & 3.856\\\\\n",
       "\\end{tabular}\n"
      ],
      "text/markdown": [
       "\n",
       "A data.frame: 6 × 7\n",
       "\n",
       "| <!--/--> | weekday &lt;chr&gt; | hightemp &lt;dbl&gt; | lowtemp &lt;dbl&gt; | precip_rain &lt;dbl&gt; | precip_snow &lt;dbl&gt; | count &lt;int&gt; | count_scaled &lt;dbl&gt; |\n",
       "|---|---|---|---|---|---|---|---|\n",
       "| 1 | Friday    | 78.1 | 66.0 | 0.01 | 0.00 | 4115 | 4.115 |\n",
       "| 2 | Saturday  | 55.0 | 48.9 | 0.15 | 0.00 | 2565 | 2.565 |\n",
       "| 3 | Sunday    | 39.9 | 34.0 | 0.09 | 0.00 | 1695 | 1.695 |\n",
       "| 4 | Monday    | 44.1 | 33.1 | 0.00 | 0.47 | 1440 | 1.440 |\n",
       "| 5 | Tuesday   | 42.1 | 26.1 | 0.00 | 0.00 | 3081 | 3.081 |\n",
       "| 6 | Wednesday | 45.0 | 30.0 | 0.00 | 0.00 | 3856 | 3.856 |\n",
       "\n"
      ],
      "text/plain": [
       "  weekday   hightemp lowtemp precip_rain precip_snow count count_scaled\n",
       "1 Friday    78.1     66.0    0.01        0.00        4115  4.115       \n",
       "2 Saturday  55.0     48.9    0.15        0.00        2565  2.565       \n",
       "3 Sunday    39.9     34.0    0.09        0.00        1695  1.695       \n",
       "4 Monday    44.1     33.1    0.00        0.47        1440  1.440       \n",
       "5 Tuesday   42.1     26.1    0.00        0.00        3081  3.081       \n",
       "6 Wednesday 45.0     30.0    0.00        0.00        3856  3.856       "
      ]
     },
     "metadata": {},
     "output_type": "display_data"
    },
    {
     "data": {
      "text/html": [
       "<style>\n",
       ".list-inline {list-style: none; margin:0; padding: 0}\n",
       ".list-inline>li {display: inline-block}\n",
       ".list-inline>li:not(:last-child)::after {content: \"\\00b7\"; padding: 0 .5ex}\n",
       "</style>\n",
       "<ol class=list-inline><li>214</li><li>7</li></ol>\n"
      ],
      "text/latex": [
       "\\begin{enumerate*}\n",
       "\\item 214\n",
       "\\item 7\n",
       "\\end{enumerate*}\n"
      ],
      "text/markdown": [
       "1. 214\n",
       "2. 7\n",
       "\n",
       "\n"
      ],
      "text/plain": [
       "[1] 214   7"
      ]
     },
     "metadata": {},
     "output_type": "display_data"
    },
    {
     "name": "stdout",
     "output_type": "stream",
     "text": [
      "'data.frame':\t214 obs. of  7 variables:\n",
      " $ weekday     : chr  \"Friday\" \"Saturday\" \"Sunday\" \"Monday\" ...\n",
      " $ hightemp    : num  78.1 55 39.9 44.1 42.1 45 57 46.9 43 48.9 ...\n",
      " $ lowtemp     : num  66 48.9 34 33.1 26.1 30 53.1 44.1 37.9 30.9 ...\n",
      " $ precip_rain : num  0.01 0.15 0.09 0 0 0 0.09 0.01 0.09 0 ...\n",
      " $ precip_snow : num  0 0 0 0.47 0 0 0 0 0 0 ...\n",
      " $ count       : int  4115 2565 1695 1440 3081 3856 3282 4113 1507 3132 ...\n",
      " $ count_scaled: num  4.12 2.56 1.7 1.44 3.08 ...\n"
     ]
    },
    {
     "data": {
      "text/plain": [
       "   weekday             hightemp        lowtemp       precip_rain    \n",
       " Length:214         Min.   :39.90   Min.   :26.10   Min.   :0.0000  \n",
       " Class :character   1st Qu.:66.05   1st Qu.:53.23   1st Qu.:0.0000  \n",
       " Mode  :character   Median :78.10   Median :64.90   Median :0.0000  \n",
       "                    Mean   :74.93   Mean   :61.97   Mean   :0.1069  \n",
       "                    3rd Qu.:84.90   3rd Qu.:71.10   3rd Qu.:0.0400  \n",
       "                    Max.   :96.10   Max.   :82.00   Max.   :1.6500  \n",
       "  precip_snow           count       count_scaled  \n",
       " Min.   :0.000000   Min.   :1440   Min.   :1.000  \n",
       " 1st Qu.:0.000000   1st Qu.:4884   1st Qu.:4.000  \n",
       " Median :0.000000   Median :6334   Median :6.000  \n",
       " Mean   :0.002196   Mean   :6161   Mean   :5.659  \n",
       " 3rd Qu.:0.000000   3rd Qu.:7858   3rd Qu.:7.000  \n",
       " Max.   :0.470000   Max.   :9148   Max.   :9.000  "
      ]
     },
     "metadata": {},
     "output_type": "display_data"
    },
    {
     "data": {
      "image/png": "[encoded data removed]",
      "text/plain": [
       "plot without title"
      ]
     },
     "metadata": {
      "image/png": {
       "height": 420,
       "width": 420
      }
     },
     "output_type": "display_data"
    },
    {
     "data": {
      "image/png": "[encoded data removed]",
      "text/plain": [
       "plot without title"
      ]
     },
     "metadata": {
      "image/png": {
       "height": 420,
       "width": 420
      }
     },
     "output_type": "display_data"
    }
   ],
   "source": [
    "df_NYC <- read.csv(\"nyc_bike_counts.csv\",header=TRUE,sep=\",\")\n",
    "head(df_NYC)\n",
    "dim(df_NYC)\n",
    "str(df_NYC)\n",
    "df_NYC$count_scaled <- as.integer(df_NYC$count_scaled)\n",
    "summary(df_NYC)\n",
    "df_NYC$weekday <- factor(df_NYC$weekday, levels = c(\"Monday\", \"Tuesday\", \"Wednesday\", \"Thursday\", \"Friday\", \"Saturday\", \"Sunday\"))\n",
    "ggplot(df_NYC, aes(x = weekday, y = count)) +\n",
    "  geom_boxplot(fill = \"lightblue\", color = \"blue\") +\n",
    "  labs(title = \"Distribution de la variable 'count' par jour de la semaine\", x = \"Jour de la semaine\", y = \"Count\") +\n",
    "  theme_minimal()\n",
    "ggpairs(df_NYC[,-1],lower = list(combo = wrap(\"facethist\", binwidth = 0.5)))"
   ]
  },
  {
   "cell_type": "markdown",
   "id": "49231da4",
   "metadata": {},
   "source": [
    "- - - - - - - - - -\n",
    "**Commentaire sur le boxplot :**\n",
    "\n",
    "- La médiane du \"nombre de cyclistes\" est la plus élevée le mercredi et la plus basse le dimanche.\n",
    "- La distribution du \"nombre de cyclistes\" semble être plus étalée (IQR plus large) les lundis, mardis et vendredis que les autres jours de la semaine.\n",
    "- Des valeurs aberrantes sont observées pour le \"nombre de cyclistes\" les mardis, mercredis, jeudis et samedis.\n",
    "- - - - - - - - - - -"
   ]
  },
  {
   "cell_type": "markdown",
   "id": "43322abb",
   "metadata": {},
   "source": [
    "- - - - - - - - -\n",
    "Le graphique ggpairs présenté affiche une matrice de diagrammes de dispersion, où chaque cellule de la matrice représente la relation entre deux variables.\n",
    "\n",
    "- On observe une forte corrélation (proche de 1) entre les deux variables `hightemp` et `lowtemp`, ce qui est logique car elles représentent deux mesures différentes de la température, prises au même moment et au même endroit. De plus, les températures maximale et minimale sont proportionnelles.\n",
    "\n",
    "- Il existe également une forte corrélation entre les variables `count_scaled` et `count`, car l'une est obtenue en divisant l'autre par 1000. Il est évident que les deux variables seront fortement corrélées, étant essentiellement les mêmes, mais à une échelle différente.\n",
    "\n",
    "- On observe également une corrélation négative entre plusieurs variables, ce qui signifie que lorsque la valeur d'une variable augmente, la valeur de l'autre variable diminue.\n",
    "- - - - - - -- "
   ]
  },
  {
   "cell_type": "code",
   "execution_count": 25,
   "id": "a217878c",
   "metadata": {
    "vscode": {
     "languageId": "r"
    }
   },
   "outputs": [
    {
     "data": {
      "text/html": [
       "0.917376365956099"
      ],
      "text/latex": [
       "0.917376365956099"
      ],
      "text/markdown": [
       "0.917376365956099"
      ],
      "text/plain": [
       "[1] 0.9173764"
      ]
     },
     "metadata": {},
     "output_type": "display_data"
    },
    {
     "data": {
      "text/html": [
       "0.987727416591785"
      ],
      "text/latex": [
       "0.987727416591785"
      ],
      "text/markdown": [
       "0.987727416591785"
      ],
      "text/plain": [
       "[1] 0.9877274"
      ]
     },
     "metadata": {},
     "output_type": "display_data"
    }
   ],
   "source": [
    "# Les tests de corrélation les confirment.\n",
    "cor(df_NYC$hightemp, df_NYC$lowtemp)\n",
    "cor(df_NYC$count_scaled,df_NYC$count)"
   ]
  },
  {
   "cell_type": "markdown",
   "id": "d3579001-21f5-4147-aab7-d7f528e26aa9",
   "metadata": {},
   "source": [
    "## Modèle de régression de Poisson \n",
    "\n",
    "On va maintenant s'intéresser à une la régression de poisson pour expliquer des variables `count` et `count_scaled` en fonction des variables explicatives à notre disposition."
   ]
  },
  {
   "cell_type": "code",
   "execution_count": 26,
   "id": "ac1a0374",
   "metadata": {
    "vscode": {
     "languageId": "r"
    }
   },
   "outputs": [
    {
     "data": {
      "text/plain": [
       "\n",
       "Call:\n",
       "glm(formula = count_scaled ~ weekday + hightemp + lowtemp + precip_rain + \n",
       "    precip_snow, family = poisson, data = df_NYC)\n",
       "\n",
       "Deviance Residuals: \n",
       "     Min        1Q    Median        3Q       Max  \n",
       "-1.49970  -0.27966   0.03794   0.29435   1.05056  \n",
       "\n",
       "Coefficients:\n",
       "                  Estimate Std. Error z value Pr(>|z|)    \n",
       "(Intercept)       0.772570   0.210836   3.664 0.000248 ***\n",
       "weekdayTuesday    0.109806   0.105283   1.043 0.296964    \n",
       "weekdayWednesday  0.119603   0.102475   1.167 0.243154    \n",
       "weekdayThursday   0.073906   0.103999   0.711 0.477304    \n",
       "weekdayFriday    -0.036112   0.108077  -0.334 0.738278    \n",
       "weekdaySaturday  -0.310735   0.114367  -2.717 0.006588 ** \n",
       "weekdaySunday    -0.439652   0.119159  -3.690 0.000225 ***\n",
       "hightemp          0.024063   0.006285   3.829 0.000129 ***\n",
       "lowtemp          -0.012238   0.006629  -1.846 0.064850 .  \n",
       "precip_rain      -0.541233   0.145774  -3.713 0.000205 ***\n",
       "precip_snow      -3.039662   2.141074  -1.420 0.155698    \n",
       "---\n",
       "Signif. codes:  0 '***' 0.001 '**' 0.01 '*' 0.05 '.' 0.1 ' ' 1\n",
       "\n",
       "(Dispersion parameter for poisson family taken to be 1)\n",
       "\n",
       "    Null deviance: 153.596  on 213  degrees of freedom\n",
       "Residual deviance:  42.407  on 203  degrees of freedom\n",
       "AIC: 819.91\n",
       "\n",
       "Number of Fisher Scoring iterations: 4\n"
      ]
     },
     "metadata": {},
     "output_type": "display_data"
    },
    {
     "data": {
      "text/plain": [
       "\n",
       "Call:\n",
       "glm(formula = count ~ weekday + hightemp + lowtemp + precip_rain + \n",
       "    precip_snow, family = poisson, data = df_NYC)\n",
       "\n",
       "Deviance Residuals: \n",
       "    Min       1Q   Median       3Q      Max  \n",
       "-39.545   -7.662    0.784    8.717   27.325  \n",
       "\n",
       "Coefficients:\n",
       "                   Estimate Std. Error z value Pr(>|z|)    \n",
       "(Intercept)       7.8314594  0.0063573 1231.88   <2e-16 ***\n",
       "weekdayTuesday    0.0874590  0.0031964   27.36   <2e-16 ***\n",
       "weekdayWednesday  0.1062259  0.0031076   34.18   <2e-16 ***\n",
       "weekdayThursday   0.0446728  0.0031649   14.12   <2e-16 ***\n",
       "weekdayFriday    -0.0507203  0.0032754  -15.48   <2e-16 ***\n",
       "weekdaySaturday  -0.2975688  0.0034424  -86.44   <2e-16 ***\n",
       "weekdaySunday    -0.3927792  0.0035492 -110.67   <2e-16 ***\n",
       "hightemp          0.0224908  0.0001900  118.40   <2e-16 ***\n",
       "lowtemp          -0.0113279  0.0002006  -56.47   <2e-16 ***\n",
       "precip_rain      -0.4931333  0.0043281 -113.94   <2e-16 ***\n",
       "precip_snow      -2.5020266  0.0565319  -44.26   <2e-16 ***\n",
       "---\n",
       "Signif. codes:  0 '***' 0.001 '**' 0.01 '*' 0.05 '.' 0.1 ' ' 1\n",
       "\n",
       "(Dispersion parameter for poisson family taken to be 1)\n",
       "\n",
       "    Null deviance: 138456  on 213  degrees of freedom\n",
       "Residual deviance:  35709  on 203  degrees of freedom\n",
       "AIC: 37979\n",
       "\n",
       "Number of Fisher Scoring iterations: 4\n"
      ]
     },
     "metadata": {},
     "output_type": "display_data"
    }
   ],
   "source": [
    "library(MASS)\n",
    "# Régression de Poisson pour la variable 'count'\n",
    "model_count <- glm(count ~ weekday + hightemp + lowtemp + precip_rain + precip_snow, data = df_NYC, family = poisson)\n",
    "# Régression de Poisson pour la variable 'count_scaled'\n",
    "model_count_scaled <- glm(count_scaled ~ weekday + hightemp + lowtemp + precip_rain + precip_snow, data = df_NYC, family = poisson)\n",
    "\n",
    "summary(model_count_scaled)\n",
    "summary(model_count)\n"
   ]
  },
  {
   "cell_type": "markdown",
   "id": "2f689497",
   "metadata": {},
   "source": [
    "- - -- - -\n",
    "**observations:** \n",
    "La plupart des coefficients (jour de la semaine, température élevée, précipitations pluvieuses) sont statistiquement significatifs dans les deux modèles cela indique que certaines variables ont une influence statistiquement observable.\n",
    "\n",
    "**comparaison:**\n",
    "Le modèle pour count_scaled (AIC : 819.91) a une valeur AIC bien inférieure au modèle pour count (AIC : 37979). L'AIC est un indicateur de la qualité d'ajustement du modèle, où une valeur inférieure indique un meilleur ajustement. Cela suggère que le modèle Poisson avec `count_scaled` comme variable dépendante s'ajuste mieux aux données que le modèle avec `count`.\n",
    "\n",
    "- -- - - "
   ]
  },
  {
   "cell_type": "markdown",
   "id": "25ddab96-feef-47fe-b18a-ade67516f7b0",
   "metadata": {},
   "source": [
    "Disons que nous sommes un samedi, avec une température maximale de 55 et une température minimale de 28, sans précipitation. Que prédirait notre modèle pour un comptage de cyclistes sur notre pont ?"
   ]
  },
  {
   "cell_type": "code",
   "execution_count": 27,
   "id": "5e9f658c",
   "metadata": {
    "vscode": {
     "languageId": "r"
    }
   },
   "outputs": [
    {
     "data": {
      "text/html": [
       "<strong>1:</strong> 4692.42410243561"
      ],
      "text/latex": [
       "\\textbf{1:} 4692.42410243561"
      ],
      "text/markdown": [
       "**1:** 4692.42410243561"
      ],
      "text/plain": [
       "       1 \n",
       "4692.424 "
      ]
     },
     "metadata": {},
     "output_type": "display_data"
    }
   ],
   "source": [
    "new_data <- data.frame(weekday = \"Saturday\",hightemp = 55,lowtemp = 28,precip_rain = 0,precip_snow = 0)\n",
    "prediction_count <- predict(model_count, newdata = new_data, type = \"response\")\n",
    "prediction_count"
   ]
  },
  {
   "cell_type": "markdown",
   "id": "4646cf32",
   "metadata": {},
   "source": [
    "Le résultat de la prédiction, 4692.42, représente le nombre attendu de cyclistes qui passeront sur le pont de Williamburg à New York un samedi, avec une température maximale de 55°F, une température minimale de 28°F et sans précipitation. Cette prédiction est basée sur les coefficients estimés du modèle de régression de Poisson "
   ]
  },
  {
   "cell_type": "markdown",
   "id": "ec6be429",
   "metadata": {},
   "source": [
    "\n",
    "$$\\log(\\mu) = \\beta_0 + \\beta_1 \\times \\text{weekday} + \\beta_2 \\times \\text{hightemp} + \\beta_3 \\times \\text{lowtemp} + \\beta_4 \\times \\text{precip\\_rain} + \\beta_5 \\times \\text{precip\\_snow}\n",
    "$$\n",
    "\n",
    "avec $\\beta_k$ pour $k \\in {0,..,4}$\n"
   ]
  }
 ],
 "metadata": {
  "kernelspec": {
   "display_name": "R",
   "language": "R",
   "name": "ir"
  },
  "language_info": {
   "codemirror_mode": "r",
   "file_extension": ".r",
   "mimetype": "text/x-r-source",
   "name": "R",
   "pygments_lexer": "r",
   "version": "4.1.3"
  }
 },
 "nbformat": 4,
 "nbformat_minor": 5
}
