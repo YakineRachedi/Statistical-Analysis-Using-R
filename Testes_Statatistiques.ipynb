{
 "cells": [
  {
   "cell_type": "markdown",
   "metadata": {},
   "source": [
    "# Partie 1 : Jeu de données Movies\n",
    "Dans cette on va étudier le jeu de données Movies. Le but est de combiner les différents outils de statistique\n",
    "descriptive et de statistique inférentielle"
   ]
  },
  {
   "cell_type": "markdown",
   "metadata": {},
   "source": [
    "La loi de Benford est une loi semi-empirique qui affirme que dans les nombres que l’on rencontre dans la vie courante, le premier chiffre significatif n’est pas équiréparti dans l’ensemble {1, . . . , 9}, mais qu’il est distribué selon la loi suivante :\n",
    "\n",
    " $$p_i = P(\\text{premier chiffre significatif égal à } i) = \\log_{10} \\left( \\frac{i + 1}{i} \\right)$$\n",
    "\n",
    "où $\\log_{10}$ est le logarithme décimal, défini par :\n",
    "\n",
    "$\\log_{10}(x) = \\frac{\\log(x)}{\\log(10)}$\n",
    "\n",
    "Au début des années 1990, un économiste américain a remarqué que lorsque les gens falsifiaient les comptes d’une société, ils avaient tendance à utiliser trop de 5 et de 6 comme premiers chiffres significatifs, c’est-à-dire plus que n’en prévoit la loi de Benford, qui par ailleurs est bien vérifiée pour ce genre de données numériques.\n"
   ]
  },
  {
   "cell_type": "code",
   "execution_count": 18,
   "metadata": {
    "vscode": {
     "languageId": "r"
    }
   },
   "outputs": [
    {
     "data": {
      "text/html": [
       "1"
      ],
      "text/latex": [
       "1"
      ],
      "text/markdown": [
       "1"
      ],
      "text/plain": [
       "[1] 1"
      ]
     },
     "metadata": {},
     "output_type": "display_data"
    }
   ],
   "source": [
    "Loi_benford <- log10((1 + c(1:9)) /c(1:9))\n",
    "sum(Loi_benford)"
   ]
  },
  {
   "cell_type": "code",
   "execution_count": 19,
   "metadata": {
    "vscode": {
     "languageId": "r"
    }
   },
   "outputs": [
    {
     "data": {
      "image/png": "[encoded data removed]",
      "text/plain": [
       "plot without title"
      ]
     },
     "metadata": {
      "image/png": {
       "height": 420,
       "width": 420
      }
     },
     "output_type": "display_data"
    }
   ],
   "source": [
    "benford_df <- data.frame(Chiffre = 1:9, Frequence = Loi_benford)\n",
    "\n",
    "# Tracer le diagramme en bâtons\n",
    "library(ggplot2)\n",
    "couleurs <- c(\"black\", \"gray\", \"blue\", \"skyblue\", \"purple\", \"red\", \"orange\", \"yellow\", \"green\")\n",
    "ggplot(benford_df, aes(x = factor(Chiffre), y = Frequence,fill = factor(Chiffre))) +\n",
    "  geom_bar(stat = \"identity\", width = 0.7) +\n",
    "  labs(title = \"Loi de Benford\",\n",
    "       x = \"Chiffre\",\n",
    "       y = \"Fréquence\") +\n",
    "  scale_fill_manual(values = couleurs) +\n",
    "  theme_minimal()"
   ]
  },
  {
   "cell_type": "code",
   "execution_count": 20,
   "metadata": {
    "vscode": {
     "languageId": "r"
    }
   },
   "outputs": [
    {
     "data": {
      "text/html": [
       "<table class=\"dataframe\">\n",
       "<caption>A data.frame: 6 × 11</caption>\n",
       "<thead>\n",
       "\t<tr><th></th><th scope=col>X</th><th scope=col>year</th><th scope=col>length</th><th scope=col>budget</th><th scope=col>rating</th><th scope=col>Action</th><th scope=col>Animation</th><th scope=col>Comedy</th><th scope=col>Drama</th><th scope=col>Documentary</th><th scope=col>Romance</th></tr>\n",
       "\t<tr><th></th><th scope=col>&lt;int&gt;</th><th scope=col>&lt;int&gt;</th><th scope=col>&lt;int&gt;</th><th scope=col>&lt;int&gt;</th><th scope=col>&lt;dbl&gt;</th><th scope=col>&lt;int&gt;</th><th scope=col>&lt;int&gt;</th><th scope=col>&lt;int&gt;</th><th scope=col>&lt;int&gt;</th><th scope=col>&lt;int&gt;</th><th scope=col>&lt;int&gt;</th></tr>\n",
       "</thead>\n",
       "<tbody>\n",
       "\t<tr><th scope=row>22</th><td> 22</td><td>1935</td><td> 85</td><td>  450000</td><td>7.2</td><td>0</td><td>0</td><td>0</td><td>1</td><td>0</td><td>0</td></tr>\n",
       "\t<tr><th scope=row>35</th><td> 35</td><td>1966</td><td> 74</td><td>   19000</td><td>1.6</td><td>0</td><td>0</td><td>0</td><td>0</td><td>0</td><td>0</td></tr>\n",
       "\t<tr><th scope=row>48</th><td> 48</td><td>1997</td><td>113</td><td>23000000</td><td>4.8</td><td>0</td><td>0</td><td>1</td><td>0</td><td>0</td><td>1</td></tr>\n",
       "\t<tr><th scope=row>91</th><td> 91</td><td>2002</td><td> 96</td><td> 5000000</td><td>3.7</td><td>0</td><td>0</td><td>0</td><td>0</td><td>0</td><td>0</td></tr>\n",
       "\t<tr><th scope=row>112</th><td>112</td><td>1999</td><td> 97</td><td>16000000</td><td>6.7</td><td>0</td><td>0</td><td>1</td><td>0</td><td>0</td><td>1</td></tr>\n",
       "\t<tr><th scope=row>124</th><td>124</td><td>2002</td><td> 98</td><td> 1100000</td><td>5.6</td><td>0</td><td>0</td><td>1</td><td>0</td><td>0</td><td>0</td></tr>\n",
       "</tbody>\n",
       "</table>\n"
      ],
      "text/latex": [
       "A data.frame: 6 × 11\n",
       "\\begin{tabular}{r|lllllllllll}\n",
       "  & X & year & length & budget & rating & Action & Animation & Comedy & Drama & Documentary & Romance\\\\\n",
       "  & <int> & <int> & <int> & <int> & <dbl> & <int> & <int> & <int> & <int> & <int> & <int>\\\\\n",
       "\\hline\n",
       "\t22 &  22 & 1935 &  85 &   450000 & 7.2 & 0 & 0 & 0 & 1 & 0 & 0\\\\\n",
       "\t35 &  35 & 1966 &  74 &    19000 & 1.6 & 0 & 0 & 0 & 0 & 0 & 0\\\\\n",
       "\t48 &  48 & 1997 & 113 & 23000000 & 4.8 & 0 & 0 & 1 & 0 & 0 & 1\\\\\n",
       "\t91 &  91 & 2002 &  96 &  5000000 & 3.7 & 0 & 0 & 0 & 0 & 0 & 0\\\\\n",
       "\t112 & 112 & 1999 &  97 & 16000000 & 6.7 & 0 & 0 & 1 & 0 & 0 & 1\\\\\n",
       "\t124 & 124 & 2002 &  98 &  1100000 & 5.6 & 0 & 0 & 1 & 0 & 0 & 0\\\\\n",
       "\\end{tabular}\n"
      ],
      "text/markdown": [
       "\n",
       "A data.frame: 6 × 11\n",
       "\n",
       "| <!--/--> | X &lt;int&gt; | year &lt;int&gt; | length &lt;int&gt; | budget &lt;int&gt; | rating &lt;dbl&gt; | Action &lt;int&gt; | Animation &lt;int&gt; | Comedy &lt;int&gt; | Drama &lt;int&gt; | Documentary &lt;int&gt; | Romance &lt;int&gt; |\n",
       "|---|---|---|---|---|---|---|---|---|---|---|---|\n",
       "| 22 |  22 | 1935 |  85 |   450000 | 7.2 | 0 | 0 | 0 | 1 | 0 | 0 |\n",
       "| 35 |  35 | 1966 |  74 |    19000 | 1.6 | 0 | 0 | 0 | 0 | 0 | 0 |\n",
       "| 48 |  48 | 1997 | 113 | 23000000 | 4.8 | 0 | 0 | 1 | 0 | 0 | 1 |\n",
       "| 91 |  91 | 2002 |  96 |  5000000 | 3.7 | 0 | 0 | 0 | 0 | 0 | 0 |\n",
       "| 112 | 112 | 1999 |  97 | 16000000 | 6.7 | 0 | 0 | 1 | 0 | 0 | 1 |\n",
       "| 124 | 124 | 2002 |  98 |  1100000 | 5.6 | 0 | 0 | 1 | 0 | 0 | 0 |\n",
       "\n"
      ],
      "text/plain": [
       "    X   year length budget   rating Action Animation Comedy Drama Documentary\n",
       "22   22 1935  85      450000 7.2    0      0         0      1     0          \n",
       "35   35 1966  74       19000 1.6    0      0         0      0     0          \n",
       "48   48 1997 113    23000000 4.8    0      0         1      0     0          \n",
       "91   91 2002  96     5000000 3.7    0      0         0      0     0          \n",
       "112 112 1999  97    16000000 6.7    0      0         1      0     0          \n",
       "124 124 2002  98     1100000 5.6    0      0         1      0     0          \n",
       "    Romance\n",
       "22  0      \n",
       "35  0      \n",
       "48  1      \n",
       "91  0      \n",
       "112 1      \n",
       "124 0      "
      ]
     },
     "metadata": {},
     "output_type": "display_data"
    }
   ],
   "source": [
    "movies_data <- read.csv(\"Movies.csv\",header=TRUE,sep=\";\",dec=\",\")\n",
    "movies_data <- na.omit(movies_data)\n",
    "movies_data <- movies_data[movies_data$budget > 0,]\n",
    "head(movies_data)\n"
   ]
  },
  {
   "cell_type": "code",
   "execution_count": 21,
   "metadata": {
    "vscode": {
     "languageId": "r"
    }
   },
   "outputs": [],
   "source": [
    "first_digit=function(n){\n",
    "fd=0\n",
    "compt=0\n",
    "while(is.na(fd)||fd==0)\n",
    "{\n",
    "compt=compt+1\n",
    "fd=as.integer(substr(as.character(n),compt,compt))\n",
    "}\n",
    "return(fd)\n",
    "}"
   ]
  },
  {
   "cell_type": "code",
   "execution_count": 22,
   "metadata": {
    "vscode": {
     "languageId": "r"
    }
   },
   "outputs": [
    {
     "data": {
      "image/png": "[encoded data removed]",
      "text/plain": [
       "plot without title"
      ]
     },
     "metadata": {
      "image/png": {
       "height": 420,
       "width": 420
      }
     },
     "output_type": "display_data"
    }
   ],
   "source": [
    "table_contingence <- table(Loi_benford)\n",
    "budget_first_digit <- sapply(movies_data$budget, first_digit)\n",
    "\n",
    "benford_donnes <- data.frame(Chiffre = 1:9,Fréquence = Loi_benford)\n",
    "\n",
    "ggplot(data = benford_donnes, aes(x = factor(Chiffre), y = Fréquence, fill = factor(Chiffre))) +\n",
    "  geom_bar(stat = \"identity\", color = \"black\") +\n",
    "  labs(title = \"Distribution des fréquences du premier chiffre significatif des budgets\",\n",
    "       x = \"Premier chiffre significatif\",\n",
    "       y = \"Fréquence\") +\n",
    "  theme_minimal() + scale_fill_manual(values = c(\"black\", \"gray\", \"blue\", \"skyblue\", \"purple\", \"red\", \"orange\", \"yellow\", \"green\"))"
   ]
  },
  {
   "cell_type": "markdown",
   "metadata": {},
   "source": [
    "### Observations :\n",
    "\n",
    "Le premier chiffre significatif 1 est le plus fréquent, suivi par 2 et 3.\n",
    "\n",
    "Les chiffres significatifs 8 et 9 sont les moins fréquents.\n",
    "\n",
    "La distribution est légèrement asymétrique à droite.\n",
    "\n",
    "### Comparaison à la loi de Benford :\n",
    "\n",
    "La loi de Benford prédit une distribution logarithmique des premiers chiffres significatifs.\n",
    "\n",
    "### Différences observées :\n",
    "\n",
    "Le premier chiffre significatif 1 est plus fréquent que prévu par la loi de Benford.\n",
    "Cela pourrait s'expliquer par le fait que les budgets des films sont souvent arrondis à des nombres entiers, ce qui favorise le chiffre 1.\n",
    "\n",
    "Les chiffres significatifs 8 et 9 sont moins fréquents que prévu par la loi de Benford.\n",
    "Cela pourrait s'expliquer par le fait que les budgets des films sont souvent exprimés en millions ou milliards de dollars, ce qui rend les chiffres 8 et 9 moins probables.\n",
    "\n",
    "### Conclusion :\n",
    "\n",
    "La distribution du premier chiffre significatif du budget des films ne correspond pas parfaitement à la loi de Benford."
   ]
  },
  {
   "cell_type": "markdown",
   "metadata": {},
   "source": [
    "## Test statistique :\n",
    "\n",
    "**H0 (Hypothèse nulle) :**\n",
    "La distribution du premier chiffre significatif des budgets des films suit la loi de Benford.\n",
    "\n",
    "**H1 (Hypothèse alternative) :**\n",
    "La distribution du premier chiffre significatif des budgets des films ne suit pas la loi de Benford.\n",
    "\n",
    "**Le test à réaliser :** \n",
    "un test de Chi deux χ² car on compare deux distributions, observée et attendue "
   ]
  },
  {
   "cell_type": "code",
   "execution_count": 23,
   "metadata": {
    "vscode": {
     "languageId": "r"
    }
   },
   "outputs": [
    {
     "data": {
      "text/plain": [
       "\n",
       "\tChi-squared test for given probabilities\n",
       "\n",
       "data:  table(budget_first_digit)\n",
       "X-squared = 45.913, df = 8, p-value = 2.469e-07\n"
      ]
     },
     "metadata": {},
     "output_type": "display_data"
    }
   ],
   "source": [
    "chisq.test(table(budget_first_digit), p=Loi_benford)"
   ]
  },
  {
   "cell_type": "markdown",
   "metadata": {},
   "source": [
    "### Conclusion : \n",
    "**p-value = 2.469e-07 :** On rejette l'hypothèse **H0** et on conclut l'hypothèse **H1**"
   ]
  },
  {
   "cell_type": "markdown",
   "metadata": {},
   "source": [
    "## On s’intéresse à la durée des films (variable length) et à la note attribuée par les spectateurs (rating). On cherche à savoir si la longueur des films a une influence sur la note obtenue."
   ]
  },
  {
   "cell_type": "code",
   "execution_count": 24,
   "metadata": {
    "vscode": {
     "languageId": "r"
    }
   },
   "outputs": [
    {
     "name": "stdout",
     "output_type": "stream",
     "text": [
      "'data.frame':\t5183 obs. of  12 variables:\n",
      " $ X          : int  22 35 48 91 112 124 126 139 143 145 ...\n",
      " $ year       : int  1935 1966 1997 2002 1999 2002 1997 1989 2001 2000 ...\n",
      " $ length     : int  85 74 113 96 97 98 94 117 103 100 ...\n",
      " $ budget     : int  450000 19000 23000000 5000000 16000000 1100000 140000 200000 200000 85000000 ...\n",
      " $ rating     : num  7.2 1.6 4.8 3.7 6.7 5.6 3.3 7.8 5.8 4.7 ...\n",
      " $ Action     : int  0 0 0 0 0 0 0 0 0 0 ...\n",
      " $ Animation  : int  0 0 0 0 0 0 0 0 0 0 ...\n",
      " $ Comedy     : int  0 0 1 0 1 1 0 0 0 1 ...\n",
      " $ Drama      : int  1 0 0 0 0 0 1 0 1 0 ...\n",
      " $ Documentary: int  0 0 0 0 0 0 0 1 0 0 ...\n",
      " $ Romance    : int  0 0 1 0 1 0 0 0 0 0 ...\n",
      " $ duree      : chr  \"Court\" \"Court\" \"Court\" \"Court\" ...\n",
      " - attr(*, \"na.action\")= 'omit' Named int [1:53573] 1 2 3 4 5 6 7 8 9 10 ...\n",
      "  ..- attr(*, \"names\")= chr [1:53573] \"1\" \"2\" \"3\" \"4\" ...\n"
     ]
    }
   ],
   "source": [
    "# création de la variable duree :\n",
    "movies_data$duree  <- ifelse(movies_data$length <= 120, \"Court\", \"Long\")\n",
    "str(movies_data)"
   ]
  },
  {
   "cell_type": "code",
   "execution_count": 25,
   "metadata": {
    "vscode": {
     "languageId": "r"
    }
   },
   "outputs": [
    {
     "name": "stdout",
     "output_type": "stream",
     "text": [
      "ordred_movies_data\n",
      "Court  Long \n",
      "    0     0 \n"
     ]
    }
   ],
   "source": [
    "ordred_movies_data <- ordered(movies_data, levels = c(\"Court\", \"Long\"))\n",
    "table_data <- table(ordred_movies_data)\n",
    "print(table_data)"
   ]
  },
  {
   "cell_type": "code",
   "execution_count": 26,
   "metadata": {
    "vscode": {
     "languageId": "r"
    }
   },
   "outputs": [
    {
     "data": {
      "image/png": "[encoded data removed]",
      "text/plain": [
       "plot without title"
      ]
     },
     "metadata": {
      "image/png": {
       "height": 420,
       "width": 420
      }
     },
     "output_type": "display_data"
    }
   ],
   "source": [
    "ggplot(data = movies_data) + \n",
    "  aes(x = duree, y = rating) + \n",
    "  geom_boxplot(fill = \"gray\") +\n",
    "  theme_minimal()"
   ]
  },
  {
   "cell_type": "markdown",
   "metadata": {},
   "source": [
    "### Le boxplot montre la distribution des notes des films pour deux catégories de durée :\n",
    "\n",
    "**Films courts :**\n",
    "\n",
    "La boîte est plus large, indiquant une distribution des notes plus concentrée.\n",
    "\n",
    "La médiane (ligne horizontale dans la boîte) est inférieure à celle des films longs, indiquant une note moyenne légèrement inférieure pour les films courts. La médiane est d'environ 5,5. La plupart des notes se situent entre 2,5 et 5.\n",
    "\n",
    "Il y a quelques valeurs aberrantes (points en dehors des moustaches) qui indiquent des notes très basses ou très élevées.\n",
    "\n",
    "**Films longs :**\n",
    "\n",
    "La boîte est plus étroite, indiquant une distribution des notes plus étalée.\n",
    "\n",
    "La ligne centrale (médiane) du graphique est légèrement supérieure à celle des films courts. elle se situe autour de 7,25\n",
    "\n",
    "On observe également quelques points de données en dehors des moustaches indiquant des films avec des notes très basses."
   ]
  },
  {
   "cell_type": "markdown",
   "metadata": {},
   "source": [
    "# Test statistique :\n",
    "Le test t de student est un test statistique utilisé pour comparer les moyennes de deux groupes indépendants Long et Court.\n",
    "\n",
    "- **Hypothèse nulle (H0)** : Il n'y a pas de différence significative entre les moyennes des deux groupes.\n",
    "  \n",
    "   $H_0: \\mu_1 = \\mu_2$\n",
    "\n",
    "  où $\\mu_1$ est la moyenne du premier groupe et $\\mu_2$ est la moyenne du deuxième groupe.\n",
    "\n",
    "- **Hypothèse alternative (H1)** : Il existe une différence significative entre les moyennes des deux groupes. Cela peut être exprimé comme suit :\n",
    "  \n",
    "  $H_1: \\mu_1 \\neq \\mu_2$"
   ]
  },
  {
   "cell_type": "code",
   "execution_count": 27,
   "metadata": {
    "vscode": {
     "languageId": "r"
    }
   },
   "outputs": [
    {
     "data": {
      "text/html": [
       "2.51673560637442"
      ],
      "text/latex": [
       "2.51673560637442"
      ],
      "text/markdown": [
       "2.51673560637442"
      ],
      "text/plain": [
       "[1] 2.516736"
      ]
     },
     "metadata": {},
     "output_type": "display_data"
    },
    {
     "data": {
      "text/html": [
       "1.06826992361362"
      ],
      "text/latex": [
       "1.06826992361362"
      ],
      "text/markdown": [
       "1.06826992361362"
      ],
      "text/plain": [
       "[1] 1.06827"
      ]
     },
     "metadata": {},
     "output_type": "display_data"
    },
    {
     "data": {
      "text/plain": [
       "\n",
       "\tWelch Two Sample t-test\n",
       "\n",
       "data:  films_court and films_longs\n",
       "t = -19.486, df = 1631.5, p-value < 2.2e-16\n",
       "alternative hypothesis: true difference in means is not equal to 0\n",
       "95 percent confidence interval:\n",
       " -0.9312677 -0.7609306\n",
       "sample estimates:\n",
       "mean of x mean of y \n",
       " 6.003778  6.849877 \n"
      ]
     },
     "metadata": {},
     "output_type": "display_data"
    }
   ],
   "source": [
    "films_court <- movies_data$rating[movies_data$duree == \"Court\"]\n",
    "films_longs <- movies_data$rating[movies_data$duree == \"Long\"]\n",
    "\n",
    "# Les données sont de meme variance ou pas\n",
    "var(films_court)\n",
    "var(films_longs)\n",
    "\n",
    "t.test(films_court,films_longs)"
   ]
  },
  {
   "cell_type": "markdown",
   "metadata": {},
   "source": [
    "### Conclusion :\n",
    "**Valeur de t (test statistic): -19.486 :** Une valeur négative indique que la note moyenne des films longs est supérieure à la note moyenne des films courts\n",
    "\n",
    "**Degrés de liberté (df): 1631.5 :** Cette valeur est estimée par le test pour tenir compte des variances inégales entre les deux groupes. \n",
    "\n",
    "**(p-value < 2.2e-16) :** \n",
    "La p-value est bien en dessous du seuil de significativité classique de 5%, et les moyennes confirment également cette constatation. \n",
    "\n",
    "Les résultats du test t de Welch confirment qu'il existe une différence statistiquement significative entre les notes moyennes des films courts et longs. Les films longs ont une note moyenne statistiquement plus élevée que les films courts.\n",
    "\n",
    "On rejette l'hypothèse **H0** et on conclut l'hypothèse **H1**"
   ]
  },
  {
   "cell_type": "markdown",
   "metadata": {},
   "source": [
    "## On cherche maintenant à étudier le lien entre le genre du film et la note attribuée."
   ]
  },
  {
   "cell_type": "code",
   "execution_count": 28,
   "metadata": {
    "vscode": {
     "languageId": "r"
    }
   },
   "outputs": [
    {
     "data": {
      "text/html": [
       "<table class=\"dataframe\">\n",
       "<caption>A data.frame: 6 × 7</caption>\n",
       "<thead>\n",
       "\t<tr><th></th><th scope=col>X</th><th scope=col>year</th><th scope=col>length</th><th scope=col>budget</th><th scope=col>rating</th><th scope=col>Genre</th><th scope=col>Genre_bin</th></tr>\n",
       "\t<tr><th></th><th scope=col>&lt;int&gt;</th><th scope=col>&lt;int&gt;</th><th scope=col>&lt;int&gt;</th><th scope=col>&lt;int&gt;</th><th scope=col>&lt;dbl&gt;</th><th scope=col>&lt;chr&gt;</th><th scope=col>&lt;int&gt;</th></tr>\n",
       "</thead>\n",
       "<tbody>\n",
       "\t<tr><th scope=row>1</th><td>1</td><td>1971</td><td>121</td><td>NA</td><td>6.4</td><td>Comedy   </td><td>1</td></tr>\n",
       "\t<tr><th scope=row>2</th><td>2</td><td>1971</td><td>121</td><td>NA</td><td>6.4</td><td>Drama    </td><td>1</td></tr>\n",
       "\t<tr><th scope=row>3</th><td>3</td><td>1939</td><td> 71</td><td>NA</td><td>6.0</td><td>Comedy   </td><td>1</td></tr>\n",
       "\t<tr><th scope=row>4</th><td>4</td><td>1941</td><td>  7</td><td>NA</td><td>8.2</td><td>Animation</td><td>1</td></tr>\n",
       "\t<tr><th scope=row>5</th><td>5</td><td>1996</td><td> 70</td><td>NA</td><td>8.2</td><td>Comedy   </td><td>1</td></tr>\n",
       "\t<tr><th scope=row>6</th><td>6</td><td>2000</td><td> 91</td><td>NA</td><td>4.3</td><td>Drama    </td><td>1</td></tr>\n",
       "</tbody>\n",
       "</table>\n"
      ],
      "text/latex": [
       "A data.frame: 6 × 7\n",
       "\\begin{tabular}{r|lllllll}\n",
       "  & X & year & length & budget & rating & Genre & Genre\\_bin\\\\\n",
       "  & <int> & <int> & <int> & <int> & <dbl> & <chr> & <int>\\\\\n",
       "\\hline\n",
       "\t1 & 1 & 1971 & 121 & NA & 6.4 & Comedy    & 1\\\\\n",
       "\t2 & 2 & 1971 & 121 & NA & 6.4 & Drama     & 1\\\\\n",
       "\t3 & 3 & 1939 &  71 & NA & 6.0 & Comedy    & 1\\\\\n",
       "\t4 & 4 & 1941 &   7 & NA & 8.2 & Animation & 1\\\\\n",
       "\t5 & 5 & 1996 &  70 & NA & 8.2 & Comedy    & 1\\\\\n",
       "\t6 & 6 & 2000 &  91 & NA & 4.3 & Drama     & 1\\\\\n",
       "\\end{tabular}\n"
      ],
      "text/markdown": [
       "\n",
       "A data.frame: 6 × 7\n",
       "\n",
       "| <!--/--> | X &lt;int&gt; | year &lt;int&gt; | length &lt;int&gt; | budget &lt;int&gt; | rating &lt;dbl&gt; | Genre &lt;chr&gt; | Genre_bin &lt;int&gt; |\n",
       "|---|---|---|---|---|---|---|---|\n",
       "| 1 | 1 | 1971 | 121 | NA | 6.4 | Comedy    | 1 |\n",
       "| 2 | 2 | 1971 | 121 | NA | 6.4 | Drama     | 1 |\n",
       "| 3 | 3 | 1939 |  71 | NA | 6.0 | Comedy    | 1 |\n",
       "| 4 | 4 | 1941 |   7 | NA | 8.2 | Animation | 1 |\n",
       "| 5 | 5 | 1996 |  70 | NA | 8.2 | Comedy    | 1 |\n",
       "| 6 | 6 | 2000 |  91 | NA | 4.3 | Drama     | 1 |\n",
       "\n"
      ],
      "text/plain": [
       "  X year length budget rating Genre     Genre_bin\n",
       "1 1 1971 121    NA     6.4    Comedy    1        \n",
       "2 2 1971 121    NA     6.4    Drama     1        \n",
       "3 3 1939  71    NA     6.0    Comedy    1        \n",
       "4 4 1941   7    NA     8.2    Animation 1        \n",
       "5 5 1996  70    NA     8.2    Comedy    1        \n",
       "6 6 2000  91    NA     4.3    Drama     1        "
      ]
     },
     "metadata": {},
     "output_type": "display_data"
    },
    {
     "data": {
      "text/plain": [
       "       X              year          length           budget        \n",
       " Min.   :    1   Min.   :1894   Min.   :  1.00   Min.   :0.00e+00  \n",
       " 1st Qu.:13920   1st Qu.:1956   1st Qu.: 76.00   1st Qu.:6.50e+05  \n",
       " Median :27839   Median :1983   Median : 91.00   Median :5.00e+06  \n",
       " Mean   :27839   Mean   :1976   Mean   : 83.45   Mean   :1.66e+07  \n",
       " 3rd Qu.:41757   3rd Qu.:1998   3rd Qu.:103.00   3rd Qu.:2.00e+07  \n",
       " Max.   :55676   Max.   :2005   Max.   :873.00   Max.   :2.00e+08  \n",
       "                                                 NA's   :49699     \n",
       "     rating         Genre             Genre_bin\n",
       " Min.   : 1.00   Length:55676       Min.   :1  \n",
       " 1st Qu.: 5.20   Class :character   1st Qu.:1  \n",
       " Median : 6.20   Mode  :character   Median :1  \n",
       " Mean   : 6.08                      Mean   :1  \n",
       " 3rd Qu.: 7.10                      3rd Qu.:1  \n",
       " Max.   :10.00                      Max.   :1  \n",
       "                                               "
      ]
     },
     "metadata": {},
     "output_type": "display_data"
    }
   ],
   "source": [
    "data_frame <- read.csv(\"Movies_genre.csv\",header=TRUE,sep=\";\",dec=\",\")\n",
    "head(data_frame)\n",
    "summary(data_frame)"
   ]
  },
  {
   "cell_type": "code",
   "execution_count": 29,
   "metadata": {
    "vscode": {
     "languageId": "r"
    }
   },
   "outputs": [
    {
     "data": {
      "text/html": [
       "<table class=\"dataframe\">\n",
       "<caption>A data.frame: 6 × 8</caption>\n",
       "<thead>\n",
       "\t<tr><th></th><th scope=col>X</th><th scope=col>year</th><th scope=col>length</th><th scope=col>budget</th><th scope=col>rating</th><th scope=col>Genre</th><th scope=col>Genre_bin</th><th scope=col>Satisfaction</th></tr>\n",
       "\t<tr><th></th><th scope=col>&lt;int&gt;</th><th scope=col>&lt;int&gt;</th><th scope=col>&lt;int&gt;</th><th scope=col>&lt;int&gt;</th><th scope=col>&lt;dbl&gt;</th><th scope=col>&lt;chr&gt;</th><th scope=col>&lt;int&gt;</th><th scope=col>&lt;chr&gt;</th></tr>\n",
       "</thead>\n",
       "<tbody>\n",
       "\t<tr><th scope=row>1</th><td>1</td><td>1971</td><td>121</td><td>NA</td><td>6.4</td><td>Comedy   </td><td>1</td><td>Moyen  </td></tr>\n",
       "\t<tr><th scope=row>2</th><td>2</td><td>1971</td><td>121</td><td>NA</td><td>6.4</td><td>Drama    </td><td>1</td><td>Moyen  </td></tr>\n",
       "\t<tr><th scope=row>3</th><td>3</td><td>1939</td><td> 71</td><td>NA</td><td>6.0</td><td>Comedy   </td><td>1</td><td>Moyen  </td></tr>\n",
       "\t<tr><th scope=row>4</th><td>4</td><td>1941</td><td>  7</td><td>NA</td><td>8.2</td><td>Animation</td><td>1</td><td>Bon    </td></tr>\n",
       "\t<tr><th scope=row>5</th><td>5</td><td>1996</td><td> 70</td><td>NA</td><td>8.2</td><td>Comedy   </td><td>1</td><td>Bon    </td></tr>\n",
       "\t<tr><th scope=row>6</th><td>6</td><td>2000</td><td> 91</td><td>NA</td><td>4.3</td><td>Drama    </td><td>1</td><td>Mauvais</td></tr>\n",
       "</tbody>\n",
       "</table>\n"
      ],
      "text/latex": [
       "A data.frame: 6 × 8\n",
       "\\begin{tabular}{r|llllllll}\n",
       "  & X & year & length & budget & rating & Genre & Genre\\_bin & Satisfaction\\\\\n",
       "  & <int> & <int> & <int> & <int> & <dbl> & <chr> & <int> & <chr>\\\\\n",
       "\\hline\n",
       "\t1 & 1 & 1971 & 121 & NA & 6.4 & Comedy    & 1 & Moyen  \\\\\n",
       "\t2 & 2 & 1971 & 121 & NA & 6.4 & Drama     & 1 & Moyen  \\\\\n",
       "\t3 & 3 & 1939 &  71 & NA & 6.0 & Comedy    & 1 & Moyen  \\\\\n",
       "\t4 & 4 & 1941 &   7 & NA & 8.2 & Animation & 1 & Bon    \\\\\n",
       "\t5 & 5 & 1996 &  70 & NA & 8.2 & Comedy    & 1 & Bon    \\\\\n",
       "\t6 & 6 & 2000 &  91 & NA & 4.3 & Drama     & 1 & Mauvais\\\\\n",
       "\\end{tabular}\n"
      ],
      "text/markdown": [
       "\n",
       "A data.frame: 6 × 8\n",
       "\n",
       "| <!--/--> | X &lt;int&gt; | year &lt;int&gt; | length &lt;int&gt; | budget &lt;int&gt; | rating &lt;dbl&gt; | Genre &lt;chr&gt; | Genre_bin &lt;int&gt; | Satisfaction &lt;chr&gt; |\n",
       "|---|---|---|---|---|---|---|---|---|\n",
       "| 1 | 1 | 1971 | 121 | NA | 6.4 | Comedy    | 1 | Moyen   |\n",
       "| 2 | 2 | 1971 | 121 | NA | 6.4 | Drama     | 1 | Moyen   |\n",
       "| 3 | 3 | 1939 |  71 | NA | 6.0 | Comedy    | 1 | Moyen   |\n",
       "| 4 | 4 | 1941 |   7 | NA | 8.2 | Animation | 1 | Bon     |\n",
       "| 5 | 5 | 1996 |  70 | NA | 8.2 | Comedy    | 1 | Bon     |\n",
       "| 6 | 6 | 2000 |  91 | NA | 4.3 | Drama     | 1 | Mauvais |\n",
       "\n"
      ],
      "text/plain": [
       "  X year length budget rating Genre     Genre_bin Satisfaction\n",
       "1 1 1971 121    NA     6.4    Comedy    1         Moyen       \n",
       "2 2 1971 121    NA     6.4    Drama     1         Moyen       \n",
       "3 3 1939  71    NA     6.0    Comedy    1         Moyen       \n",
       "4 4 1941   7    NA     8.2    Animation 1         Bon         \n",
       "5 5 1996  70    NA     8.2    Comedy    1         Bon         \n",
       "6 6 2000  91    NA     4.3    Drama     1         Mauvais     "
      ]
     },
     "metadata": {},
     "output_type": "display_data"
    }
   ],
   "source": [
    "data_frame$Satisfaction <- ifelse(data_frame$rating < 5, \"Mauvais\",\n",
    "                              ifelse(data_frame$rating < 7.5, \"Moyen\", \"Bon\"))\n",
    "head(data_frame)"
   ]
  },
  {
   "cell_type": "code",
   "execution_count": 30,
   "metadata": {
    "vscode": {
     "languageId": "r"
    }
   },
   "outputs": [
    {
     "data": {
      "text/html": [
       "<style>\n",
       ".list-inline {list-style: none; margin:0; padding: 0}\n",
       ".list-inline>li {display: inline-block}\n",
       ".list-inline>li:not(:last-child)::after {content: \"\\00b7\"; padding: 0 .5ex}\n",
       "</style>\n",
       "<ol class=list-inline><li>'Mauvais'</li><li>'Moyen'</li><li>'Bon'</li></ol>\n"
      ],
      "text/latex": [
       "\\begin{enumerate*}\n",
       "\\item 'Mauvais'\n",
       "\\item 'Moyen'\n",
       "\\item 'Bon'\n",
       "\\end{enumerate*}\n"
      ],
      "text/markdown": [
       "1. 'Mauvais'\n",
       "2. 'Moyen'\n",
       "3. 'Bon'\n",
       "\n",
       "\n"
      ],
      "text/plain": [
       "[1] \"Mauvais\" \"Moyen\"   \"Bon\"    "
      ]
     },
     "metadata": {},
     "output_type": "display_data"
    },
    {
     "data": {
      "text/html": [
       "<style>\n",
       ".list-inline {list-style: none; margin:0; padding: 0}\n",
       ".list-inline>li {display: inline-block}\n",
       ".list-inline>li:not(:last-child)::after {content: \"\\00b7\"; padding: 0 .5ex}\n",
       "</style>\n",
       "<ol class=list-inline><li>'&lt;5'</li><li>'[5,7.5]'</li><li>'&gt;7.5'</li></ol>\n"
      ],
      "text/latex": [
       "\\begin{enumerate*}\n",
       "\\item '<5'\n",
       "\\item '{[}5,7.5{]}'\n",
       "\\item '>7.5'\n",
       "\\end{enumerate*}\n"
      ],
      "text/markdown": [
       "1. '&lt;5'\n",
       "2. '[5,7.5]'\n",
       "3. '&gt;7.5'\n",
       "\n",
       "\n"
      ],
      "text/plain": [
       "[1] \"<5\"      \"[5,7.5]\" \">7.5\"   "
      ]
     },
     "metadata": {},
     "output_type": "display_data"
    }
   ],
   "source": [
    "data_frame$Satisfaction <- ordered(data_frame$Satisfaction, levels =c('Mauvais','Moyen','Bon'))\n",
    "data_frame$rating <- ordered(data_frame$rating, levels =c('<5','[5,7.5]','>7.5'))\n",
    "table_contingence <- table (data_frame$Satisfaction, data_frame$rating)\n",
    "levels(data_frame$Satisfaction)\n",
    "levels(data_frame$rating)"
   ]
  },
  {
   "cell_type": "code",
   "execution_count": 31,
   "metadata": {
    "vscode": {
     "languageId": "r"
    }
   },
   "outputs": [
    {
     "data": {
      "image/png": "[encoded data removed]",
      "text/plain": [
       "plot without title"
      ]
     },
     "metadata": {
      "image/png": {
       "height": 420,
       "width": 420
      }
     },
     "output_type": "display_data"
    }
   ],
   "source": [
    "ggplot(data = data_frame, aes(x = Genre, fill = Satisfaction)) + \n",
    "  geom_bar(aes(y = (..count..)/sum(..count..))) +\n",
    "  scale_fill_manual(values = c(\"Mauvais\" = \"red\", \"Moyen\" = \"yellow\", \"Bon\" = \"green\")) +  # Spécifier les couleurs\n",
    "  theme_minimal() + \n",
    "  theme(axis.text.x = element_text(angle = 45, hjust = 1)) +\n",
    "  labs(title = \"Distribution de la satisfaction par genre de film\",\n",
    "       x = \"Genre de film\",\n",
    "       y = \"Proportion de films\",\n",
    "       fill = \"Satisfaction\")"
   ]
  },
  {
   "cell_type": "markdown",
   "metadata": {},
   "source": [
    "### Observations :\n",
    "\n",
    "Il y a une grande variation dans la satisfaction des spectateurs pour tous les genres de films.\n",
    "\n",
    "La satisfaction des spectateurs ne semble pas être fortement liée au genre du film.\n",
    "\n",
    "Les films d'action et d'animation ont tendance à recevoir des niveaux de satisfaction moyens et faibles plus élevés que les niveaux de satisfaction élevés. Les films comiques et les drames affichent généralement des niveaux de satisfaction moyens plus élevés, avec des niveaux presque équivalents de satisfaction faible et élevée.\n",
    "\n",
    "Les documentaires suscitent des niveaux de satisfaction uniformes, avec peu de satisfaction faible. En revanche, les films romantiques obtiennent généralement des niveaux de satisfaction moyens plus élevés, avec un équilibre entre les niveaux de satisfaction élevés et faibles."
   ]
  },
  {
   "cell_type": "markdown",
   "metadata": {},
   "source": [
    "# Test statistique :\n",
    "On fait un test d'indépendence entre deux variables qualitatives \"Genre\" et \"Satisfaction\"\n",
    "\n",
    "- **Hypothèse nulle (H0) :** Il n'y a pas de lien significatif entre le genre du film et la satisfaction des spectateurs.\n",
    "\n",
    "$H_0$ = \"Les variables \"Genre\" et \"Satisfaction\" sont indépendantes.\"\n",
    "\n",
    "- **Hypothèse alternative (H1) :** Il y a un lien significatif entre le genre du film et la satisfaction des spectateurs.\n",
    "\n",
    "$H_1$ = \"Les variables \"Genre\" et \"Satisfaction\" ne sont pas indépendantes.\""
   ]
  },
  {
   "cell_type": "code",
   "execution_count": 32,
   "metadata": {
    "vscode": {
     "languageId": "r"
    }
   },
   "outputs": [
    {
     "data": {
      "text/plain": [
       "\n",
       "\tPearson's Chi-squared test\n",
       "\n",
       "data:  data_frame$Genre and data_frame$Satisfaction\n",
       "X-squared = 2781.4, df = 10, p-value < 2.2e-16\n"
      ]
     },
     "metadata": {},
     "output_type": "display_data"
    }
   ],
   "source": [
    "chisq.test(data_frame$Genre,data_frame$Satisfaction)"
   ]
  },
  {
   "cell_type": "markdown",
   "metadata": {},
   "source": [
    "### Conclusion :\n",
    "La valeur du chi-deux $X²$ est de 2781.4, ce qui est une valeur très élevée.\n",
    "**La p-value** est inférieure à 2,2e-16, ce qui est une valeur très faible et en dessous du seuil de significativité classique de 5%\n",
    "\n",
    "Le test de $X²$ montre que le genre du film est un facteur important qui influence la satisfaction du public.\n",
    "- On rejette l'hypothèse $H_0$ et on conclut $H_1$"
   ]
  },
  {
   "cell_type": "markdown",
   "metadata": {},
   "source": [
    "# Partie 2 : Etude de l’influence du genre sur le BMI"
   ]
  },
  {
   "cell_type": "markdown",
   "metadata": {},
   "source": [
    "Chargement du jeu de données à partir de l’URL : \"https://www.biostatistics.dk/teaching/bioinformatics/data/gwaspt.rda\""
   ]
  },
  {
   "cell_type": "code",
   "execution_count": 34,
   "metadata": {
    "vscode": {
     "languageId": "r"
    }
   },
   "outputs": [
    {
     "data": {
      "text/html": [
       "<table class=\"dataframe\">\n",
       "<caption>A data.frame: 6 × 3</caption>\n",
       "<thead>\n",
       "\t<tr><th></th><th scope=col>BMI</th><th scope=col>gender</th><th scope=col>age</th></tr>\n",
       "\t<tr><th></th><th scope=col>&lt;dbl&gt;</th><th scope=col>&lt;fct&gt;</th><th scope=col>&lt;dbl&gt;</th></tr>\n",
       "</thead>\n",
       "<tbody>\n",
       "\t<tr><th scope=row>1</th><td>23.39</td><td>Female</td><td>33.02133</td></tr>\n",
       "\t<tr><th scope=row>2</th><td>22.72</td><td>Female</td><td>28.32208</td></tr>\n",
       "\t<tr><th scope=row>3</th><td>23.52</td><td>Male  </td><td>25.73901</td></tr>\n",
       "\t<tr><th scope=row>4</th><td>25.03</td><td>Male  </td><td>30.80271</td></tr>\n",
       "\t<tr><th scope=row>5</th><td>21.64</td><td>Female</td><td>34.95409</td></tr>\n",
       "\t<tr><th scope=row>6</th><td>22.16</td><td>Male  </td><td>28.13544</td></tr>\n",
       "</tbody>\n",
       "</table>\n"
      ],
      "text/latex": [
       "A data.frame: 6 × 3\n",
       "\\begin{tabular}{r|lll}\n",
       "  & BMI & gender & age\\\\\n",
       "  & <dbl> & <fct> & <dbl>\\\\\n",
       "\\hline\n",
       "\t1 & 23.39 & Female & 33.02133\\\\\n",
       "\t2 & 22.72 & Female & 28.32208\\\\\n",
       "\t3 & 23.52 & Male   & 25.73901\\\\\n",
       "\t4 & 25.03 & Male   & 30.80271\\\\\n",
       "\t5 & 21.64 & Female & 34.95409\\\\\n",
       "\t6 & 22.16 & Male   & 28.13544\\\\\n",
       "\\end{tabular}\n"
      ],
      "text/markdown": [
       "\n",
       "A data.frame: 6 × 3\n",
       "\n",
       "| <!--/--> | BMI &lt;dbl&gt; | gender &lt;fct&gt; | age &lt;dbl&gt; |\n",
       "|---|---|---|---|\n",
       "| 1 | 23.39 | Female | 33.02133 |\n",
       "| 2 | 22.72 | Female | 28.32208 |\n",
       "| 3 | 23.52 | Male   | 25.73901 |\n",
       "| 4 | 25.03 | Male   | 30.80271 |\n",
       "| 5 | 21.64 | Female | 34.95409 |\n",
       "| 6 | 22.16 | Male   | 28.13544 |\n",
       "\n"
      ],
      "text/plain": [
       "  BMI   gender age     \n",
       "1 23.39 Female 33.02133\n",
       "2 22.72 Female 28.32208\n",
       "3 23.52 Male   25.73901\n",
       "4 25.03 Male   30.80271\n",
       "5 21.64 Female 34.95409\n",
       "6 22.16 Male   28.13544"
      ]
     },
     "metadata": {},
     "output_type": "display_data"
    }
   ],
   "source": [
    "load(url(\"https://www.biostatistics.dk/teaching/bioinformatics/data/gwaspt.rda\"))\n",
    "head(phenotypes)\n",
    "library(ggplot2)"
   ]
  },
  {
   "cell_type": "code",
   "execution_count": 35,
   "metadata": {
    "vscode": {
     "languageId": "r"
    }
   },
   "outputs": [
    {
     "data": {
      "image/png": "[encoded data removed]",
      "text/plain": [
       "plot without title"
      ]
     },
     "metadata": {
      "image/png": {
       "height": 420,
       "width": 420
      }
     },
     "output_type": "display_data"
    }
   ],
   "source": [
    "# Visualisation des données\n",
    "ggplot(data = phenotypes, aes(x = gender, y = BMI)) +\n",
    "  geom_boxplot(fill = \"yellow\") +\n",
    "  labs(x = \"Sexe\", y = \"BMI\") +\n",
    "  ggtitle(\"Distribution du BMI par sexe\")"
   ]
  },
  {
   "cell_type": "markdown",
   "metadata": {},
   "source": [
    "**Ligne centrale(médiane) :**  Elle est plus élevée chez les hommes que chez les femmes. Cela signifie que la moitié des hommes ont un BMI inférieur à la médiane et l'autre moitié a un BMI supérieur à la médiane. On observe la même chose pour les femmes.\n",
    "\n",
    "**Boîte (quartile interquartile (IQR)) :** Il correspond à l'intervalle contenant les 50% intermédiaires des données. L'IQR est plus grand chez les hommes que chez les femmes, ce qui signifie que les données sont plus dispersées chez les hommes.\n",
    "\n",
    "**Moustaches :** ils ont à peu près la même longueur pour les hommes et les femmes, ce qui signifie qu'il existe des valeurs aberrantes (des points de données qui se situent en dehors de l'IQR) dans les deux groupes."
   ]
  },
  {
   "cell_type": "markdown",
   "metadata": {},
   "source": [
    "# Test statistique :"
   ]
  },
  {
   "cell_type": "markdown",
   "metadata": {},
   "source": [
    "Regardons si BMI suit une Gaussienne :"
   ]
  },
  {
   "cell_type": "code",
   "execution_count": 36,
   "metadata": {
    "vscode": {
     "languageId": "r"
    }
   },
   "outputs": [
    {
     "name": "stderr",
     "output_type": "stream",
     "text": [
      "Warning message:\n",
      "\"\u001b[1m\u001b[22m`stat(density)` was deprecated in ggplot2 3.4.0.\n",
      "\u001b[36mi\u001b[39m Please use `after_stat(density)` instead.\"\n"
     ]
    },
    {
     "data": {
      "text/plain": [
       "\n",
       "\tShapiro-Wilk normality test\n",
       "\n",
       "data:  phenotypes$BMI\n",
       "W = 0.99839, p-value = 0.2489\n"
      ]
     },
     "metadata": {},
     "output_type": "display_data"
    },
    {
     "data": {
      "image/png": "[encoded data removed]",
      "text/plain": [
       "plot without title"
      ]
     },
     "metadata": {
      "image/png": {
       "height": 420,
       "width": 420
      }
     },
     "output_type": "display_data"
    }
   ],
   "source": [
    "mu <- mean(phenotypes$BMI)\n",
    "sd <- sd(phenotypes$BMI)\n",
    "\n",
    "\n",
    "ggplot(data = phenotypes) + \n",
    "  geom_histogram(aes(x = BMI, y = stat(density)), binwidth = 0.5, fill = \"gray\", color = \"black\") + \n",
    "  ggtitle(\"Histogramme des BMI\") + \n",
    "  stat_function(fun = dnorm, args = list(mean = mu, sd = sd), col = \"red\")\n",
    "\n",
    "shapiro.test(phenotypes$BMI)"
   ]
  },
  {
   "cell_type": "markdown",
   "metadata": {},
   "source": [
    "d'ou la variable suit bien une loi Gaussienne"
   ]
  },
  {
   "cell_type": "code",
   "execution_count": 37,
   "metadata": {
    "vscode": {
     "languageId": "r"
    }
   },
   "outputs": [
    {
     "data": {
      "text/html": [
       "668"
      ],
      "text/latex": [
       "668"
      ],
      "text/markdown": [
       "668"
      ],
      "text/plain": [
       "[1] 668"
      ]
     },
     "metadata": {},
     "output_type": "display_data"
    },
    {
     "data": {
      "text/html": [
       "656"
      ],
      "text/latex": [
       "656"
      ],
      "text/markdown": [
       "656"
      ],
      "text/plain": [
       "[1] 656"
      ]
     },
     "metadata": {},
     "output_type": "display_data"
    },
    {
     "data": {
      "text/html": [
       "1.12716232392786"
      ],
      "text/latex": [
       "1.12716232392786"
      ],
      "text/markdown": [
       "1.12716232392786"
      ],
      "text/plain": [
       "[1] 1.127162"
      ]
     },
     "metadata": {},
     "output_type": "display_data"
    },
    {
     "data": {
      "text/html": [
       "1.15974061790169"
      ],
      "text/latex": [
       "1.15974061790169"
      ],
      "text/markdown": [
       "1.15974061790169"
      ],
      "text/plain": [
       "[1] 1.159741"
      ]
     },
     "metadata": {},
     "output_type": "display_data"
    }
   ],
   "source": [
    "BMI_Femmes <- phenotypes$BMI[phenotypes$gender == \"Female\"]\n",
    "BMI_Hommes <- phenotypes$BMI[phenotypes$gender == \"Male\"]\n",
    "length(BMI_Femmes)\n",
    "length(BMI_Hommes)\n",
    "\n",
    "# Calcul des variances on cas d'égalité\n",
    "var(BMI_Femmes)\n",
    "var(BMI_Hommes)"
   ]
  },
  {
   "cell_type": "markdown",
   "metadata": {},
   "source": [
    "On fait un test de moyenne pour comparer la moyenne de BMI entre les hommes et les femmes\n",
    "\n",
    "- **Hypothèse nulle (H0) :** Il n'y a pas de différence significative entre les moyennes de BMI des hommes et des femmes.\n",
    "\n",
    "$ H_0: \\mu_{\\text{Hommes}} = \\mu_{\\text{Femmes}} $\n",
    "\n",
    "- **Hypothèse alternative (H1) :** Il y a une différence significative entre les moyennes de BMI des hommes et des femmes.\n",
    "\n",
    "$ H_1: \\mu_{\\text{Hommes}} \\neq \\mu_{\\text{Femmes}} $"
   ]
  },
  {
   "cell_type": "code",
   "execution_count": 38,
   "metadata": {
    "vscode": {
     "languageId": "r"
    }
   },
   "outputs": [
    {
     "data": {
      "text/plain": [
       "\n",
       "\tWelch Two Sample t-test\n",
       "\n",
       "data:  BMI_Hommes and BMI_Femmes\n",
       "t = 19.506, df = 1320.6, p-value < 2.2e-16\n",
       "alternative hypothesis: true difference in means is not equal to 0\n",
       "95 percent confidence interval:\n",
       " 1.03125 1.26188\n",
       "sample estimates:\n",
       "mean of x mean of y \n",
       " 23.56462  22.41805 \n"
      ]
     },
     "metadata": {},
     "output_type": "display_data"
    }
   ],
   "source": [
    "t.test(BMI_Hommes,BMI_Femmes,data = phenotypes)"
   ]
  },
  {
   "cell_type": "markdown",
   "metadata": {},
   "source": [
    "### Conclusion :\n",
    "**Les moyennes de BMI observées :** le BMI moyen des femmes est de 22.41805 tandis que celui des hommes est de 23.56462\n",
    "**Le p-value < 2,2e-16 :** ce qui est largement inférieur au seuil de significativité de 0,05.\n",
    "**La statistique t = -19,506 :** ce qui indique une différence importante entre les moyennes de BMI des hommes et des femmes.\n",
    "\n",
    "Ainsi, nous pouvons conclure que, dans cet échantillon, il existe une différence significative de BMI entre les hommes et les femmes, les hommes ayant en moyenne un BMI plus élevé que les femmes. on rejette $H_0$ et on conclut $H_1$"
   ]
  },
  {
   "cell_type": "markdown",
   "metadata": {},
   "source": [
    "## Etude du lien entre la génétique et le BMI"
   ]
  },
  {
   "cell_type": "code",
   "execution_count": 39,
   "metadata": {
    "vscode": {
     "languageId": "r"
    }
   },
   "outputs": [
    {
     "data": {
      "text/html": [
       "<style>\n",
       ".list-inline {list-style: none; margin:0; padding: 0}\n",
       ".list-inline>li {display: inline-block}\n",
       ".list-inline>li:not(:last-child)::after {content: \"\\00b7\"; padding: 0 .5ex}\n",
       "</style>\n",
       "<ol class=list-inline><li>1324</li><li>32019</li></ol>\n"
      ],
      "text/latex": [
       "\\begin{enumerate*}\n",
       "\\item 1324\n",
       "\\item 32019\n",
       "\\end{enumerate*}\n"
      ],
      "text/markdown": [
       "1. 1324\n",
       "2. 32019\n",
       "\n",
       "\n"
      ],
      "text/plain": [
       "[1]  1324 32019"
      ]
     },
     "metadata": {},
     "output_type": "display_data"
    }
   ],
   "source": [
    "load(url(\"https://www.biostatistics.dk/teaching/bioinformatics/data/gwasgt.rda\"))\n",
    "dim(genotypes)\n",
    "#1324 lignes\n",
    "#32019 colones"
   ]
  },
  {
   "cell_type": "code",
   "execution_count": 40,
   "metadata": {
    "vscode": {
     "languageId": "r"
    }
   },
   "outputs": [
    {
     "data": {
      "text/plain": [
       "         \n",
       "variant_1 normal overweight\n",
       "        0   1002         55\n",
       "        1    244          6\n",
       "        2     17          0"
      ]
     },
     "metadata": {},
     "output_type": "display_data"
    }
   ],
   "source": [
    "variant_1 <- genotypes[,1]\n",
    "phenotypes$BMI_cat <- ifelse(phenotypes$BMI < 25, \"normal\", \"overweight\")\n",
    "contingency_table <- table(variant_1,phenotypes$BMI_cat)\n",
    "contingency_table"
   ]
  },
  {
   "cell_type": "code",
   "execution_count": 41,
   "metadata": {
    "vscode": {
     "languageId": "r"
    }
   },
   "outputs": [
    {
     "data": {
      "image/png": "[encoded data removed]",
      "text/plain": [
       "plot without title"
      ]
     },
     "metadata": {
      "image/png": {
       "height": 420,
       "width": 420
      }
     },
     "output_type": "display_data"
    }
   ],
   "source": [
    "plot_1 <- ggplot(phenotypes) +\n",
    "  geom_bar(aes(x = variant_1, fill = BMI_cat, y = (..count..)), color = \"black\") +\n",
    "  scale_fill_manual(values = c(\"green\", \"red\")) +\n",
    "  labs(x = \"Premier variant\", y = \"Nombre d'individus\", title = \"Distribution du BMI par 1er variant génétique\")\n",
    "print(plot_1)"
   ]
  },
  {
   "cell_type": "code",
   "execution_count": 42,
   "metadata": {
    "vscode": {
     "languageId": "r"
    }
   },
   "outputs": [
    {
     "data": {
      "image/png": "[encoded data removed]",
      "text/plain": [
       "plot without title"
      ]
     },
     "metadata": {
      "image/png": {
       "height": 420,
       "width": 420
      }
     },
     "output_type": "display_data"
    }
   ],
   "source": [
    "plot_2 <- ggplot(phenotypes) +\n",
    "  geom_bar(aes(x = variant_1, fill = BMI_cat, y = (..count..)/sum(..count..)), color = \"black\") +\n",
    "  scale_fill_manual(values = c(\"green\", \"red\")) +\n",
    "  labs(x = \"Premier individu\", y = \"Fréquence\", title = \"Distribution du BMI par 1er variant génétique\")\n",
    "print(plot_2)"
   ]
  },
  {
   "cell_type": "markdown",
   "metadata": {},
   "source": [
    "**Commentaire :** La distribution du premier variant est unimodale, ce qui signifie qu'il y a un seul pic dans la distribution. et c'est le cas pour \"overweight\" et \"normal\", à priori il n'y a pas de lien"
   ]
  },
  {
   "cell_type": "markdown",
   "metadata": {},
   "source": [
    "# Test statistique :\n",
    "**Modèle :**\n",
    "\n",
    "- **Hypothèse nulle (H0)**  : Le premier variant génétique est indépendant du BMI.\n",
    "​\n",
    "- **Hypothèse alternative (H1)**  : Le premier variant génétique est associé au BMI.\n",
    "\n",
    "**Test choisi :** Test d'indépendence de Fisher fonctionne bien avec de petits effectifs."
   ]
  },
  {
   "cell_type": "code",
   "execution_count": 43,
   "metadata": {
    "vscode": {
     "languageId": "r"
    }
   },
   "outputs": [
    {
     "data": {
      "text/plain": [
       "\n",
       "\tFisher's Exact Test for Count Data\n",
       "\n",
       "data:  contingency_table\n",
       "p-value = 0.1363\n",
       "alternative hypothesis: two.sided\n"
      ]
     },
     "metadata": {},
     "output_type": "display_data"
    }
   ],
   "source": [
    "fisher.test(contingency_table)"
   ]
  },
  {
   "cell_type": "markdown",
   "metadata": {},
   "source": [
    "**La p-value =** 0.1363 > à un niveau de signification de 0.05, nous ne rejetons pas Hypothèse d'indépendence $H_0$ "
   ]
  },
  {
   "cell_type": "code",
   "execution_count": 44,
   "metadata": {
    "vscode": {
     "languageId": "r"
    }
   },
   "outputs": [
    {
     "name": "stdout",
     "output_type": "stream",
     "text": [
      "[1] 1534\n"
     ]
    }
   ],
   "source": [
    "significant_variants <- 0\n",
    "for (i in 1:ncol(genotypes)) {\n",
    "    contingency_table <- table(genotypes[, i], phenotypes$BMI_cat)\n",
    "    result <- fisher.test(contingency_table)\n",
    "    if (result$p.value < 0.05) {\n",
    "        significant_variants <- significant_variants + 1\n",
    "        #print(paste(\"Variant\", i, \"est significativement lié au BMI\"))\n",
    "    }\n",
    "}\n",
    "print(significant_variants)"
   ]
  },
  {
   "cell_type": "markdown",
   "metadata": {},
   "source": [
    "On trouve 1534 variants significativements liées au BMI, cela siginifie qu'il existe une association entre ces variants génétiques et la catégorie de la BMI\n",
    "\n",
    "Dans notre analyse statistique. on a posé les hypothèses suivantes :\n",
    "- **Hypothèse nulle (H0)**  : Les variants génétiques sont indépendants du BMI. Dit autrement, les variables sont indépendantes.\n",
    "​\n",
    "- **Hypothèse alternative (H1)**  : Les variants génétiques ne sont pas indépendants au BMI. Dit autrement, les variables ne sont pas indépendantes.\n",
    "\n",
    "- En utilisant un seuil par défaut (5%) on a trouvé 1534 variants ayants une p-value inférieur à 5%. cela signifie qu'on rejette $H_0$ et nous avons trouver suffisamment de preuves pour conclure $H_1$, autrement dit il existe une association significative entre ces variants génétiques et la BMI. "
   ]
  },
  {
   "cell_type": "code",
   "execution_count": 45,
   "metadata": {
    "vscode": {
     "languageId": "r"
    }
   },
   "outputs": [
    {
     "data": {
      "text/html": [
       "<style>\n",
       ".list-inline {list-style: none; margin:0; padding: 0}\n",
       ".list-inline>li {display: inline-block}\n",
       ".list-inline>li:not(:last-child)::after {content: \"\\00b7\"; padding: 0 .5ex}\n",
       "</style>\n",
       "<ol class=list-inline><li>1</li><li>1</li><li>1</li><li>1</li><li>0</li><li>1</li></ol>\n"
      ],
      "text/latex": [
       "\\begin{enumerate*}\n",
       "\\item 1\n",
       "\\item 1\n",
       "\\item 1\n",
       "\\item 1\n",
       "\\item 0\n",
       "\\item 1\n",
       "\\end{enumerate*}\n"
      ],
      "text/markdown": [
       "1. 1\n",
       "2. 1\n",
       "3. 1\n",
       "4. 1\n",
       "5. 0\n",
       "6. 1\n",
       "\n",
       "\n"
      ],
      "text/plain": [
       "[1] 1 1 1 1 0 1"
      ]
     },
     "metadata": {},
     "output_type": "display_data"
    },
    {
     "name": "stdout",
     "output_type": "stream",
     "text": [
      "[1] 1587\n"
     ]
    }
   ],
   "source": [
    "# variable aléatoire\n",
    "\n",
    "nb_individuals <- nrow(genotypes)\n",
    "binary_variable <- sample(0:1, size = nb_individuals, replace = TRUE, prob = c(0.5, 0.5))\n",
    "head(binary_variable)\n",
    "\n",
    "# Initialisation du vecteur pour stocker les résultats du test\n",
    "p_values <- numeric(length = ncol(genotypes))\n",
    "\n",
    "significant_variants <- 0\n",
    "# Boucle pour tester chaque variant\n",
    "for (i in 1:ncol(genotypes)) {\n",
    "    contingency_table <- table(genotypes[, i], binary_variable)\n",
    "    test <- fisher.test(contingency_table)\n",
    "    p_values[i] <- test$p.value\n",
    "    if(test$p.value < 0.05){\n",
    "        significant_variants <- significant_variants + 1\n",
    "    }\n",
    "}\n",
    "print(significant_variants)"
   ]
  },
  {
   "cell_type": "markdown",
   "metadata": {},
   "source": [
    "**commentaire :**\n",
    "\n",
    "Sur les 32019 variantes testées, les résultats ont montré que 1555 variants génétiques présentaient une association significative avec la nouvelle variable binaire. Cependant, il est important de noter que ce nombre élevé de résultats significatifs peut être attribué au hasard, étant donné que la nouvelle variable binaire a été générée aléatoirement.\n",
    "\n",
    "Par conséquent, il semble que le test de Fisher effectué dans la question précédente ne soit pas approprié pour évaluer l'association entre les variants génétiques et la nouvelle variable binaire."
   ]
  },
  {
   "cell_type": "markdown",
   "metadata": {},
   "source": [
    "Étant donné que le test de Fisher effectué dans la question précédente semble inapproprié, plusieurs approches peuvent être envisagées pour gérer cette situation :\n",
    "\n",
    "- Changer de test statistique pour un test qui contrôle le taux d'erreurs ou qui est plus approprié pour ce type de données.\n",
    "- Ajuster le seuil de signification pour tenir compte du grand nombre de tests effectués.\n",
    "- Considérer la possibilité de modifier ou d'ajuster les données elles-mêmes, peut-être en sélectionnant un sous-ensemble plus restreint de variants génétique. "
   ]
  }
 ],
 "metadata": {
  "kernelspec": {
   "display_name": "R",
   "language": "R",
   "name": "ir"
  },
  "language_info": {
   "codemirror_mode": "r",
   "file_extension": ".r",
   "mimetype": "text/x-r-source",
   "name": "R",
   "pygments_lexer": "r",
   "version": "4.1.3"
  }
 },
 "nbformat": 4,
 "nbformat_minor": 2
}
